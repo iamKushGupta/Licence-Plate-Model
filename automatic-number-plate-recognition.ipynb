{
 "cells": [
  {
   "cell_type": "markdown",
   "id": "65671a5d",
   "metadata": {
    "papermill": {
     "duration": 0.01519,
     "end_time": "2022-06-17T11:06:35.529059",
     "exception": false,
     "start_time": "2022-06-17T11:06:35.513869",
     "status": "completed"
    },
    "tags": []
   },
   "source": [
    "<p id=\"part0\"></p>\n",
    "<p style=\"font-family: Arials; line-height: 2; font-size: 24px; font-weight: bold; letter-spacing: 2px; text-align: center; color: #000000\">AUTOMATIC LICENSE NUMBER PLATE DETECTION AND RECOGNITION</p>\n",
    "<img src= \"https://github.com/Asikpalysik/Automatic-License-Plate-Detection/blob/main/Presentation/Notebook1.png?raw=true\" width=\"100%\" align=\"center\"  hspace=\"5%\" vspace=\"5%\"/>\n",
    "<p style=\"font-family: Arials; font-size: 20px; font-style: normal; font-weight: bold; letter-spacing: 3px; text-align: center; color: #000000; line-height:1.0\">TABLE OF CONTENT</p>\n",
    "\n",
    "<p style=\"font-family: Arials; font-size: 16px; font-style: normal; font-weight: bold; letter-spacing: 2px; text-align: center; color: #000000; line-height:1.3\"><a href=\"#part2\" style=\"color:#000000\">1. INTRODUCTION</a></p>\n",
    "\n",
    "<p  style=\"text-indent: 1vw; font-family: Arials; font-size: 14px; font-style: normal; font-weight: bold; letter-spacing: 2px; text-align: center; color: #000000; line-height:1.3\"><a href=\"#part3\" style=\"color:#808080\">1.1 USE CASES</a></p>\n",
    "\n",
    "<p  style=\"text-indent: 1vw; font-family: Arials; font-size: 14px; font-style: normal; font-weight: bold; letter-spacing: 2px; text-align: center; color: #000000; line-height:1.3\"><a href=\"#part4\" style=\"color:#808080\">1.2 PROJECT ARCHITECTURE</a></p>\n",
    "\n",
    "<p  style=\"font-family: Arials; font-size: 16px; font-style: normal; font-weight: bold; letter-spacing: 2px;  text-align: center; color: #000000; line-height:1.3\"><a href=\"#part5\" style=\"color:#000000\">2. LABELING</a></p>\n",
    "\n",
    "<p  style=\"text-indent: 1vw; font-family: Arials; font-size: 14px; font-style: normal; font-weight: bold; letter-spacing: 2px; text-align: center; color: #000000; line-height:1.3\"><a href=\"#part6\" style=\"color:#808080\">2.1 UNDERSTAND & COLLECT REQUIRED DATA</a></p>\n",
    "\n",
    "<p  style=\"text-indent: 1vw; font-family: Arials; font-size: 14px; font-style: normal; font-weight: bold; letter-spacing: 2px; text-align: center; color: #000000; line-height:1.3\"><a href=\"#part7\" style=\"color:#808080\">2.2 LABEL IMAGES</a></p>\n",
    "\n",
    "<p  style=\"text-indent: 1vw; font-family: Arials; font-size: 14px; font-style: normal; font-weight: bold; letter-spacing: 2px; text-align: center; color: #000000; line-height:1.3\"><a href=\"#part8\" style=\"color:#808080\">2.3 PARSING INFORMATION FROM XML</a></p>\n",
    "\n",
    "<p  style=\"text-indent: 1vw; font-family: Arials; font-size: 14px; font-style: normal; font-weight: bold; letter-spacing: 2px; text-align: center; color: #000000; line-height:1.3\"><a href=\"#part9\" style=\"color:#808080\">2.4 PARSING DATA FROM XML & CONVERTING IT INTO CSV</a></p>\n",
    "\n",
    "<p  style=\"text-indent: 1vw; font-family: Arials; font-size: 14px; font-style: normal; font-weight: bold; letter-spacing: 2px; text-align: center; color: #000000; line-height:1.3\"><a href=\"#part10\" style=\"color:#808080\">2.5 VERIFY THE DATA</a></p>\n",
    "\n",
    "<p style=\"font-family: Arials; font-size: 16px; font-style: normal; font-weight: bold; letter-spacing: 2px; text-align: center; color: #000000; line-height:1.3\"><a href=\"#part11\" style=\"color:#000000\">3. DATA PROCESSING</a></p>\n",
    "\n",
    "<p  style=\"text-indent: 1vw; font-family: Arials; font-size: 14px; font-style: normal; font-weight: bold; letter-spacing: 2px; text-align: center; color: #000000; line-height:1.3\"><a href=\"#part12\" style=\"color:#808080\">3.1 READ DATA</a></p>\n",
    "\n",
    "<p  style=\"text-indent: 1vw; font-family: Arials; font-size: 14px; font-style: normal; font-weight: bold; letter-spacing: 2px; text-align: center; color: #000000; line-height:1.3\"><a href=\"#part13\" style=\"color:#808080\">3.2 SPLIT TRAIN AND TEST SET</a></p>\n",
    "\n",
    "<p style=\"font-family: Arials; font-size: 16px; font-style: normal; font-weight: bold; letter-spacing: 2px; text-align: center; color: #000000; line-height:1.3\"><a href=\"#part14\" style=\"color:#000000\">4. DEEP LEARNING FOR OBJECT DETECTION</a></p>\n",
    "\n",
    "<p  style=\"text-indent: 1vw; font-family: Arials; font-size: 14px; font-style: normal; font-weight: bold; letter-spacing: 2px; text-align: center; color: #000000; line-height:1.3\"><a href=\"#part15\" style=\"color:#808080\">4.1 INCEPTION-RESNET-V2 MODEL BUILDING</a></p>\n",
    "\n",
    "<p  style=\"text-indent: 1vw; font-family: Arials; font-size: 14px; font-style: normal; font-weight: bold; letter-spacing: 2px; text-align: center; color: #000000; line-height:1.3\"><a href=\"#part16\" style=\"color:#808080\">4.2 INCEPTION-RESNET-V2 TRAINING & SAVE</a></p>\n",
    "\n",
    "<p  style=\"text-indent: 1vw; font-family: Arials; font-size: 14px; font-style: normal; font-weight: bold; letter-spacing: 2px; text-align: center; color: #000000; line-height:1.3\"><a href=\"#part17\" style=\"color:#808080\">4.3 TENSORBOARD </a></p>\n",
    "\n",
    "<p style=\"font-family: Arials; font-size: 18px; font-style: normal; font-weight: bold; letter-spacing: 2px; text-align: center; color: #000000; line-height:1.3\"><a href=\"#part14\" style=\"color:#000000\">5. PIPELINE OBJECT DETECTION MODEL</a></p>\n",
    "\n",
    "<p  style=\"text-indent: 1vw; font-family: Arials; font-size: 14px; font-style: normal; font-weight: bold; letter-spacing: 2px; text-align: center; color: #000000; line-height:1.3\"><a href=\"#part19\" style=\"color:#808080\">5.1 MAKE PREDICTIONS</a></p>\n",
    "\n",
    "<p  style=\"text-indent: 1vw; font-family: Arials; font-size: 14px; font-style: normal; font-weight: bold; letter-spacing: 2px; text-align: center; color: #000000; line-height:1.3\"><a href=\"#part20\" style=\"color:#808080\">5.2 DE-NORMALIZE THE OUTPUT</a></p>\n",
    "\n",
    "<p  style=\"text-indent: 1vw; font-family: Arials; font-size: 14px; font-style: normal; font-weight: bold; letter-spacing: 2px; text-align: center; color: #000000; line-height:1.3\"><a href=\"#part21\" style=\"color:#808080\">5.3 BOUNDING BOX</a></p>\n",
    "\n",
    "<p  style=\"text-indent: 1vw; font-family: Arials; font-size: 14px; font-style: normal; font-weight: bold; letter-spacing: 2px; text-align: center; color: #000000; line-height:1.3\"><a href=\"#part22\" style=\"color:#808080\">5.4 CREATE PIPELINE</a></p>\n",
    "\n",
    "<p style=\"font-family: Arials; font-size: 18px; font-style: normal; font-weight: bold; letter-spacing: 2px; text-align: center; color: #000000; line-height:1.3\"><a href=\"#part23\" style=\"color:#000000\">6. OPTICAL CHARACTER RECOGNITION - OCR</a></p>\n",
    "\n",
    "<p  style=\"text-indent: 1vw; font-family: Arials; font-size: 14px; font-style: normal; font-weight: bold; letter-spacing: 2px; text-align: center; color: #000000; line-height:1.3\"><a href=\"#part24\" style=\"color:#808080\">6.1 TESSERACT OCR</a></p>\n",
    "\n",
    "<p  style=\"text-indent: 1vw; font-family: Arials; font-size: 14px; font-style: normal; font-weight: bold; letter-spacing: 2px; text-align: center; color: #000000; line-height:1.3\"><a href=\"#part25\" style=\"color:#808080\">6.2 LIMITATIONS OF PYTESSERACT</a></p>\n",
    "\n",
    "<p  style=\"text-indent: 1vw; font-family: Arials; font-size: 14px; font-style: normal; font-weight: bold; letter-spacing: 2px; text-align: center; color: #000000; line-height:1.3\"><a href=\"#part26\" style=\"color:#808080\">6.3 EXTRACT NUMBER PLATE TEXT FROM IMAGE</a></p>\n",
    "\n",
    "<p style=\"font-family: Arials; font-size: 18px; font-style: normal; font-weight: bold; letter-spacing: 2px; text-align: center; color: #000000; line-height:1.3\"><a href=\"#part27\" style=\"color:#000000\">7. NUMBER PLATE WEB APP</a></p>\n",
    "\n",
    "<p  style=\"text-indent: 1vw; font-family: Arials; font-size: 14px; font-style: normal; font-weight: bold; letter-spacing: 2px; text-align: center; color: #000000; line-height:1.3\"><a href=\"#part28\" style=\"color:#808080\">7.1 REQUERED TOOLS</a></p>\n",
    "\n",
    "<p  style=\"text-indent: 1vw; font-family: Arials; font-size: 14px; font-style: normal; font-weight: bold; letter-spacing: 2px; text-align: center; color: #000000; line-height:1.3\"><a href=\"#part29\" style=\"color:#808080\">7.2 FLASK APP</a></p>\n",
    "\n",
    "<p  style=\"text-indent: 1vw; font-family: Arials; font-size: 14px; font-style: normal; font-weight: bold; letter-spacing: 2px; text-align: center; color: #000000; line-height:1.3\"><a href=\"#part30\" style=\"color:#808080\">7.3 TEMPLATE INHERITANC</a></p>\n",
    "\n",
    "<p  style=\"text-indent: 1vw; font-family: Arials; font-size: 14px; font-style: normal; font-weight: bold; letter-spacing: 2px; text-align: center; color: #000000; line-height:1.3\"><a href=\"#part31\" style=\"color:#808080\">7.4 HTTP METHOD UPLOAD FILE IN FLASK</a></p>\n",
    "\n",
    "<p  style=\"text-indent: 1vw; font-family: Arials; font-size: 14px; font-style: normal; font-weight: bold; letter-spacing: 2px; text-align: center; color: #000000; line-height:1.3\"><a href=\"#part32\" style=\"color:#808080\">7.5 INTEGRATE NPD AND OCR TO FLASK APP</a></p>\n",
    "\n",
    "<p style=\"font-family: Arials; font-size: 18px; font-style: normal; font-weight: bold; letter-spacing: 2px; text-align: center; color: #000000; line-height:1.3\"><a href=\"#part33\" style=\"color:#000000\">8. RAEAL TIME NUMBER PLATE RECOGNITIONT WITH YOLO</a></p>\n",
    "\n",
    "<p  style=\"text-indent: 1vw; font-family: Arials; font-size: 14px; font-style: normal; font-weight: bold; letter-spacing: 2px; text-align: center; color: #000000; line-height:1.3\"><a href=\"#part34\" style=\"color:#808080\">8.1 EXPLANATION OF REQUIRED DATA</a></p>\n",
    "\n",
    "<p  style=\"text-indent: 1vw; font-family: Arials; font-size: 14px; font-style: normal; font-weight: bold; letter-spacing: 2px; text-align: center; color: #000000; line-height:1.3\"><a href=\"#part35\" style=\"color:#808080\">8.2 DATA PREPARATION</a></p>\n",
    "\n",
    "<p  style=\"text-indent: 1vw; font-family: Arials; font-size: 14px; font-style: normal; font-weight: bold; letter-spacing: 2px; text-align: center; color: #000000; line-height:1.3\"><a href=\"#part36\" style=\"color:#808080\">8.3 TRAINING YOLO</a></p>\n",
    "\n",
    "<p  style=\"text-indent: 1vw; font-family: Arials; font-size: 14px; font-style: normal; font-weight: bold; letter-spacing: 2px; text-align: center; color: #000000; line-height:1.3\"><a href=\"#part37\" style=\"color:#808080\">8.4 PREDICTING RESULTS FROM YOLO</a></p>\n",
    "\n",
    "<p  style=\"text-indent: 1vw; font-family: Arials; font-size: 14px; font-style: normal; font-weight: bold; letter-spacing: 2px; text-align: center; color: #000000; line-height:1.3\"><a href=\"#part38\" style=\"color:#808080\">8.5 REAL TIME OBJECT DETECTION</a></p>\n",
    "\n",
    "<p style=\"font-family: Arials; font-size: 18px; font-style: normal; font-weight: bold; letter-spacing: 2px; text-align: center; color: #000000; line-height:1.3\"><a href=\"#part39\" style=\"color:#000000\">9. CONCLUSION</a></p>\n",
    "\n",
    "<p id=\"part2\"></p>\n",
    "\n",
    "# <span style=\"font-family: Arials; font-size: 20px; font-style: normal; font-weight: bold; letter-spacing: 3px; text-align: center; color: #000000; line-height:1.0\">1. INTRODUCTION</span>\n",
    "<hr style=\"height: 0.5px; border: 0; background-color: #000000\">\n",
    "\n",
    "<table><tr>\n",
    "<td> <img src= \"https://github.com/Asikpalysik/Automatic-License-Plate-Detection/blob/main/Presentation/Test.gif?raw=true\" width=\"100%\" align=\"center\"  hspace=\"5%\" vspace=\"5%\"/> </td>\n",
    "<td> <img src= \"https://user-images.githubusercontent.com/91852182/172154404-ccb2a6b5-deb4-4321-91ff-a8f13457b352.gif\" width=\"100%\" align=\"center\"  hspace=\"5%\" vspace=\"5%\"/> </td>\n",
    "</tr></table>\n",
    "\n",
    "In Today’s Day and Age Security has become one of the biggest concerns for any organization, and automation of such security is essential. However, many of the current solutions are still not robust in real-world situations, commonly depending on many constraints. In the following project, we will understand how to recognize License number plates using the Python programming language. We will utilize OpenCV for this project in order to identify the license number plates and the python pytesseract for the characters and digits extraction from the plate. As well this project will  presents a robust and efficient ALPR system based on the state-of-the-art YOLO object detector. We will Web App with a Python program that automatically recognizes the License Number Plate by the end of this journi. The results have shown that the trained neural network is able to perform with high accuracy of nearly 90-95 percent in recognizing license plates in low resolution images using this system.\n",
    "\n",
    "<p id=\"part3\"></p>\n",
    "\n",
    "# <span style=\"font-family: Arials; font-size: 16px; font-style: normal; font-weight: bold; letter-spacing: 3px; text-align: center; color: #000000; line-height:1.0\">1.1 USE CASES</span>\n",
    "\n",
    "License plate detection is identifying the part of the car that is predicted to be the number plate. Recognition is identifying the values that make up the license plate. License plate detection and recognition is the technology that uses computer vision to detect and recognize a license plate from an input image of a car. This technology applies in many areas. On roads, it is used to identify the cars that are breaking the traffic rules. In security, it is used to capture the license plates of the vehicles getting into and out of certain premises. In parking lots, it is used to capture the license plates of the cars being parked. The list of its applications goes on and on.\n",
    "\n",
    "<img src= \"https://github.com/Asikpalysik/Automatic-License-Plate-Detection/blob/main/Presentation/Notebook2.png?raw=true\" width=\"100%\" align=\"center\"  hspace=\"5%\" vspace=\"5%\"/>\n",
    "\n",
    "<p id=\"part4\"></p>\n",
    "\n",
    "# <span style=\"font-family: Arials; font-size: 16px; font-style: normal; font-weight: bold; letter-spacing: 3px; text-align: center; color: #000000; line-height:1.0\">1.2 PROJECT ARCHITECTURE</span>\n",
    "\n",
    "<img src= \"https://github.com/Asikpalysik/Automatic-License-Plate-Detection/blob/main/Presentation/Notebook3.png?raw=true\" width=\"60%\" align=\"center\"  hspace=\"5%\" vspace=\"5%\"/>\n",
    "\n",
    "In the below architecture *Figure 2*, there are six modules. Labeling, Training, Save Model, OCR and Pipeline, and RESTful API. The process is as follows. First, we will collect the image. Then we have to label images for object detection of License Plate or Number Plate using Image Annotation Tool [Github](https://github.com/Asikpalysik/Automatic-License-Plate-Detection/tree/main/labelImg-master) which is open-source software developed in python GUI. Then after labeling the image we will work on data preprocessing, build and train a deep learning object detection model (Inception Resnet V2) in TensorFlow 2. Once we have done with the Object Detection model training process, then using this model we will crop the image which contains the license plate which is also called the region of interest (ROI), and pass the ROI to Optical Character Recognition API Tesseract in Python (PyTesseract). As well extract text from images. Now, we will put it all together and build a Pipeline Deep Learning model. In the final module, we will learn to create a web app project using FLASK Python. With that, we are finally ready with our App.\n",
    "\n",
    "<img src= \"https://github.com/Asikpalysik/Automatic-License-Plate-Detection/blob/main/Presentation/Notebook4.png?raw=true\" width=\"100%\" align=\"center\"  hspace=\"5%\" vspace=\"5%\"/>\n",
    "\n",
    "<p id=\"part5\"></p>\n",
    "\n",
    "# <span style=\"font-family: Arials; font-size: 20px; font-style: normal; font-weight: bold; letter-spacing: 3px; text-align: center; color: #000000; line-height:1.0\">2. LABELING</span>\n",
    "<hr style=\"height: 0.5px; border: 0; background-color: #000000\">\n",
    "\n",
    "<p id=\"part6\"></p>\n",
    "\n",
    "# <span style=\"font-family: Arials; font-size: 16px; font-style: normal; font-weight: bold; letter-spacing: 3px; text-align: center; color: #000000; line-height:1.0\">2.1 UNDERSTAND & COLLECT REQUIRED DATA</span>\n",
    "\n",
    "For building the license plate recognition we need data. For that, we need to collect the vehicle images where the number plate appears on it as much as we can. [Here](https://github.com/Asikpalysik/Automatic-License-Plate-Detection/tree/main/images) is the sample data that I used for building this project. Below you can see few examples *Figure 3,4*.\n",
    "\n",
    "<img src= \"https://github.com/Asikpalysik/Automatic-License-Plate-Detection/blob/main/Presentation/Notebook5.png?raw=true\" width=\"100%\" align=\"center\"  hspace=\"5%\" vspace=\"5%\"/>\n",
    "\n",
    "<p id=\"part7\"></p>\n",
    "\n",
    "# <span style=\"font-family: Arials; font-size: 16px; font-style: normal; font-weight: bold; letter-spacing: 3px; text-align: center; color: #000000; line-height:1.0\">2.2 LABEL IMAGES</span>\n",
    "\n",
    "For label images, I used the LabelImg image annotation tool. Download the labelImg from [GitHub](https://github.com/Asikpalysik/Automatic-License-Plate-Detection/tree/main/labelImg-master) and follow the instruction to install the package. After that open, the GUI as give the instruction and click on CreateRectBox and draw the rectangle box as shown below and save the output in XML.\n",
    "\n",
    "<img src= \"https://github.com/Asikpalysik/Automatic-License-Plate-Detection/blob/main/Presentation/Notebook6.png?raw=true\" width=\"100%\" align=\"center\"  hspace=\"5%\" vspace=\"5%\"/>\n",
    "\n",
    "This is a manual process and you need to do it for all the images. Be careful while doing labeling because the labeling process has a direct impact on the accuracy of the model. [Click here for a video tutorial](https://www.youtube.com/watch?v=XxslbNwcdaI).  On *Figure 5* you can find main window.\n",
    "\n",
    "<p id=\"part8\"></p>\n",
    "\n",
    "# <span style=\"font-family: Arials; font-size: 16px; font-style: normal; font-weight: bold; letter-spacing: 3px; text-align: center; color: #000000; line-height:1.0\">2.3 PARSING INFORMATION FROM XML</span>\n",
    "\n",
    "Example of our .xml files will look as below.\n",
    "```\n",
    "<annotation>\n",
    "    <folder>images</folder>\n",
    "    <filename>N1.jpeg</filename>\n",
    "    <path>/Users/asik/Desktop/ANPR/imagesN1.jpeg</path>\n",
    "    <source>\n",
    "        <database>Unknown</database>\n",
    "    </source>\n",
    "    <size>\n",
    "        <width>1920</width>\n",
    "        <height>1080</height>\n",
    "        <depth>3</depth>\n",
    "    </size>\n",
    "    <segmented>0</segmented>\n",
    "    <object>\n",
    "        <name>number_plate</name>\n",
    "        <pose>Unspecified</pose>\n",
    "        <truncated>0</truncated>\n",
    "        <difficult>0</difficult>\n",
    "        <bndbox>\n",
    "            <xmin>1093</xmin>\n",
    "            <ymin>645</ymin>\n",
    "            <xmax>1396</xmax>\n",
    "            <ymax>727</ymax>\n",
    "        </bndbox>\n",
    "    </object>\n",
    "</annotation>\n",
    "```\n",
    "Once you are done with the labeling process now we need to do some data preprocessing. Since the output of the label is XML in order to use this for the training process we need data in array format. For that, we will take the useful information from the label which are the diagonal points of the rectangle box or bounding box which are *xmin, ymin, xmax, ymax* respectively. This is available in XML. So we need to extract the information and save it in any convenient format, here I will convert bounding information into CSV and later on, I will convert that into an array using Pandas. Now let’s see how to parse the information using Python.\n",
    "\n",
    "\n",
    "<p id=\"part9\"></p>\n",
    "\n",
    "# <span style=\"font-family: Arials; font-size: 16px; font-style: normal; font-weight: bold; letter-spacing: 3px; text-align: center; color: #000000; line-height:1.0\">2.4 PARSING DATA FROM XML AND CONVERTING IT INTO CSV</span>\n",
    "\n",
    "\n",
    "Firstly let me load all librariies wich i will us in this project at one time.As well I will using **xml.etree** python library to parse the data from XML and also import pandas and glob. Using glob let first get all the XML files that are produced during labeling."
   ]
  },
  {
   "cell_type": "code",
   "execution_count": 9,
   "id": "31831dd8",
   "metadata": {
    "execution": {
     "iopub.execute_input": "2022-06-17T11:06:35.572355Z",
     "iopub.status.busy": "2022-06-17T11:06:35.571517Z",
     "iopub.status.idle": "2022-06-17T11:06:44.276361Z",
     "shell.execute_reply": "2022-06-17T11:06:44.275552Z"
    },
    "papermill": {
     "duration": 8.731881,
     "end_time": "2022-06-17T11:06:44.278687",
     "exception": false,
     "start_time": "2022-06-17T11:06:35.546806",
     "status": "completed"
    },
    "tags": []
   },
   "outputs": [
    {
     "ename": "NameError",
     "evalue": "name '_keras' is not defined",
     "output_type": "error",
     "traceback": [
      "\u001b[1;31m---------------------------------------------------------------------------\u001b[0m",
      "\u001b[1;31mNameError\u001b[0m                                 Traceback (most recent call last)",
      "\u001b[1;32md:\\UG-3-sem-2\\Computer_Vision-CV\\CV PROJECT\\Kaggle\\automatic-number-plate-recognition.ipynb Cell 2\u001b[0m in \u001b[0;36m<cell line: 5>\u001b[1;34m()\u001b[0m\n\u001b[0;32m      <a href='vscode-notebook-cell:/d%3A/UG-3-sem-2/Computer_Vision-CV/CV%20PROJECT/Kaggle/automatic-number-plate-recognition.ipynb#W1sZmlsZQ%3D%3D?line=2'>3</a>\u001b[0m \u001b[39mimport\u001b[39;00m \u001b[39mnumpy\u001b[39;00m \u001b[39mas\u001b[39;00m \u001b[39mnp\u001b[39;00m\n\u001b[0;32m      <a href='vscode-notebook-cell:/d%3A/UG-3-sem-2/Computer_Vision-CV/CV%20PROJECT/Kaggle/automatic-number-plate-recognition.ipynb#W1sZmlsZQ%3D%3D?line=3'>4</a>\u001b[0m \u001b[39mimport\u001b[39;00m \u001b[39mpandas\u001b[39;00m \u001b[39mas\u001b[39;00m \u001b[39mpd\u001b[39;00m\n\u001b[1;32m----> <a href='vscode-notebook-cell:/d%3A/UG-3-sem-2/Computer_Vision-CV/CV%20PROJECT/Kaggle/automatic-number-plate-recognition.ipynb#W1sZmlsZQ%3D%3D?line=4'>5</a>\u001b[0m \u001b[39mimport\u001b[39;00m \u001b[39mtensorflow\u001b[39;00m \u001b[39mas\u001b[39;00m \u001b[39mtf\u001b[39;00m\n\u001b[0;32m      <a href='vscode-notebook-cell:/d%3A/UG-3-sem-2/Computer_Vision-CV/CV%20PROJECT/Kaggle/automatic-number-plate-recognition.ipynb#W1sZmlsZQ%3D%3D?line=5'>6</a>\u001b[0m \u001b[39mimport\u001b[39;00m \u001b[39mpytesseract\u001b[39;00m \u001b[39mas\u001b[39;00m \u001b[39mpt\u001b[39;00m\n\u001b[0;32m      <a href='vscode-notebook-cell:/d%3A/UG-3-sem-2/Computer_Vision-CV/CV%20PROJECT/Kaggle/automatic-number-plate-recognition.ipynb#W1sZmlsZQ%3D%3D?line=6'>7</a>\u001b[0m \u001b[39mimport\u001b[39;00m \u001b[39mplotly\u001b[39;00m\u001b[39m.\u001b[39;00m\u001b[39mexpress\u001b[39;00m \u001b[39mas\u001b[39;00m \u001b[39mpx\u001b[39;00m\n",
      "File \u001b[1;32mc:\\Users\\Kushg\\AppData\\Local\\Programs\\Python\\Python310\\lib\\site-packages\\tensorflow\\__init__.py:480\u001b[0m, in \u001b[0;36m<module>\u001b[1;34m\u001b[0m\n\u001b[0;32m    478\u001b[0m \u001b[39mif\u001b[39;00m \u001b[39mhasattr\u001b[39m(_current_module, \u001b[39m\"\u001b[39m\u001b[39mkeras\u001b[39m\u001b[39m\"\u001b[39m):\n\u001b[0;32m    479\u001b[0m   \u001b[39mtry\u001b[39;00m:\n\u001b[1;32m--> 480\u001b[0m     _keras\u001b[39m.\u001b[39m_load()\n\u001b[0;32m    481\u001b[0m   \u001b[39mexcept\u001b[39;00m \u001b[39mImportError\u001b[39;00m:\n\u001b[0;32m    482\u001b[0m     \u001b[39mpass\u001b[39;00m\n",
      "\u001b[1;31mNameError\u001b[0m: name '_keras' is not defined"
     ]
    }
   ],
   "source": [
    "import os\n",
    "import cv2\n",
    "import numpy as np\n",
    "import pandas as pd\n",
    "import tensorflow as tf\n",
    "import pytesseract as pt\n",
    "import plotly.express as px\n",
    "import matplotlib.pyplot as plt\n",
    "import xml.etree.ElementTree as xet\n",
    "\n",
    "from tensorflow import keras\n",
    "\n",
    "from glob import glob\n",
    "from skimage import io\n",
    "from shutil import copy\n",
    "from tensorflow.keras.models import Model\n",
    "from tensorflow.keras.callbacks import TensorBoard\n",
    "from sklearn.model_selection import train_test_split\n",
    "from tensorflow.keras.applications import InceptionResNetV2\n",
    "from tensorflow.keras.layers import Dense, Dropout, Flatten, Input\n",
    "from tensorflow.keras.preprocessing.image import load_img, img_to_array\n"
   ]
  },
  {
   "cell_type": "code",
   "execution_count": null,
   "id": "101e2055",
   "metadata": {
    "execution": {
     "iopub.execute_input": "2022-06-17T11:06:44.307930Z",
     "iopub.status.busy": "2022-06-17T11:06:44.307623Z",
     "iopub.status.idle": "2022-06-17T11:06:45.699729Z",
     "shell.execute_reply": "2022-06-17T11:06:45.698934Z"
    },
    "papermill": {
     "duration": 1.408817,
     "end_time": "2022-06-17T11:06:45.701767",
     "exception": false,
     "start_time": "2022-06-17T11:06:44.292950",
     "status": "completed"
    },
    "tags": []
   },
   "outputs": [],
   "source": [
    "path = glob('../input/number-plate-detection/images/*.xml')\n",
    "labels_dict = dict(filepath=[],xmin=[],xmax=[],ymin=[],ymax=[])\n",
    "for filename in path:\n",
    "\n",
    "    info = xet.parse(filename)\n",
    "    root = info.getroot()\n",
    "    member_object = root.find('object')\n",
    "    labels_info = member_object.find('bndbox')\n",
    "    xmin = int(labels_info.find('xmin').text)\n",
    "    xmax = int(labels_info.find('xmax').text)\n",
    "    ymin = int(labels_info.find('ymin').text)\n",
    "    ymax = int(labels_info.find('ymax').text)\n",
    "\n",
    "    labels_dict['filepath'].append(filename)\n",
    "    labels_dict['xmin'].append(xmin)\n",
    "    labels_dict['xmax'].append(xmax)\n",
    "    labels_dict['ymin'].append(ymin)\n",
    "    labels_dict['ymax'].append(ymax)"
   ]
  },
  {
   "cell_type": "markdown",
   "id": "68fbf553",
   "metadata": {
    "papermill": {
     "duration": 0.014555,
     "end_time": "2022-06-17T11:06:45.730754",
     "exception": false,
     "start_time": "2022-06-17T11:06:45.716199",
     "status": "completed"
    },
    "tags": []
   },
   "source": [
    "In the above code, we individually take each file and parse into xml.etree and find the object -> bndbox. Then we extract xmin,xmax,ymin,ymax and saved those values in the dictionary. After we convert it into a pandas data frame and save that into CSV file and save it in project folder as shown below."
   ]
  },
  {
   "cell_type": "code",
   "execution_count": null,
   "id": "cbae7941",
   "metadata": {
    "execution": {
     "iopub.execute_input": "2022-06-17T11:06:45.759695Z",
     "iopub.status.busy": "2022-06-17T11:06:45.758942Z",
     "iopub.status.idle": "2022-06-17T11:06:45.784229Z",
     "shell.execute_reply": "2022-06-17T11:06:45.783511Z"
    },
    "papermill": {
     "duration": 0.041514,
     "end_time": "2022-06-17T11:06:45.785998",
     "exception": false,
     "start_time": "2022-06-17T11:06:45.744484",
     "status": "completed"
    },
    "tags": []
   },
   "outputs": [],
   "source": [
    "df = pd.DataFrame(labels_dict)\n",
    "df.to_csv('labels.csv',index=False)\n",
    "df.head()"
   ]
  },
  {
   "cell_type": "markdown",
   "id": "eb81be7b",
   "metadata": {
    "papermill": {
     "duration": 0.014036,
     "end_time": "2022-06-17T11:06:45.814222",
     "exception": false,
     "start_time": "2022-06-17T11:06:45.800186",
     "status": "completed"
    },
    "tags": []
   },
   "source": [
    "With the above code, we successfully extract the diagonal position of each image and convert the data from an unstructured to a structured format.You can have A look data above. Now also extract the respective image filename of the XML."
   ]
  },
  {
   "cell_type": "code",
   "execution_count": null,
   "id": "93992de1",
   "metadata": {
    "execution": {
     "iopub.execute_input": "2022-06-17T11:06:45.843672Z",
     "iopub.status.busy": "2022-06-17T11:06:45.843383Z",
     "iopub.status.idle": "2022-06-17T11:06:45.852636Z",
     "shell.execute_reply": "2022-06-17T11:06:45.851820Z"
    },
    "papermill": {
     "duration": 0.025933,
     "end_time": "2022-06-17T11:06:45.854531",
     "exception": false,
     "start_time": "2022-06-17T11:06:45.828598",
     "status": "completed"
    },
    "tags": []
   },
   "outputs": [],
   "source": [
    "filename = df['filepath'][0]\n",
    "def getFilename(filename):\n",
    "    filename_image = xet.parse(filename).getroot().find('filename').text\n",
    "    filepath_image = os.path.join('../input/number-plate-detection/images',filename_image)\n",
    "    return filepath_image\n",
    "getFilename(filename)"
   ]
  },
  {
   "cell_type": "code",
   "execution_count": null,
   "id": "9029f1e8",
   "metadata": {
    "execution": {
     "iopub.execute_input": "2022-06-17T11:06:45.884475Z",
     "iopub.status.busy": "2022-06-17T11:06:45.884221Z",
     "iopub.status.idle": "2022-06-17T11:06:46.016574Z",
     "shell.execute_reply": "2022-06-17T11:06:46.015776Z"
    },
    "papermill": {
     "duration": 0.1498,
     "end_time": "2022-06-17T11:06:46.018693",
     "exception": false,
     "start_time": "2022-06-17T11:06:45.868893",
     "status": "completed"
    },
    "tags": []
   },
   "outputs": [],
   "source": [
    "image_path = list(df['filepath'].apply(getFilename))\n",
    "image_path[:10]#random check"
   ]
  },
  {
   "cell_type": "markdown",
   "id": "6d05060a",
   "metadata": {
    "papermill": {
     "duration": 0.014605,
     "end_time": "2022-06-17T11:06:46.047994",
     "exception": false,
     "start_time": "2022-06-17T11:06:46.033389",
     "status": "completed"
    },
    "tags": []
   },
   "source": [
    "<p id=\"part10\"></p>\n",
    "\n",
    "# <span style=\"font-family: Arials; font-size: 16px; font-style: normal; font-weight: bold; letter-spacing: 3px; text-align: center; color: #000000; line-height:1.0\">2.5 VERIFY THE DATA</span>\n",
    "\n",
    "As till now we did the manual process it is important to verify the information is we got is valid or not. For that just verify the bounding box is appearing properly for a given image. Here I consider the image N2.jpeg and the corresponding diagonal position can found in df. Result you can see on *Figure 8*"
   ]
  },
  {
   "cell_type": "code",
   "execution_count": null,
   "id": "b4014242",
   "metadata": {
    "execution": {
     "iopub.execute_input": "2022-06-17T11:06:46.078590Z",
     "iopub.status.busy": "2022-06-17T11:06:46.078286Z",
     "iopub.status.idle": "2022-06-17T11:06:48.951907Z",
     "shell.execute_reply": "2022-06-17T11:06:48.950967Z"
    },
    "papermill": {
     "duration": 3.045598,
     "end_time": "2022-06-17T11:06:49.107870",
     "exception": false,
     "start_time": "2022-06-17T11:06:46.062272",
     "status": "completed"
    },
    "tags": []
   },
   "outputs": [],
   "source": [
    "file_path = image_path[87] #path of our image N2.jpeg\n",
    "img = cv2.imread(file_path) #read the image\n",
    "# xmin-1804/ymin-1734/xmax-2493/ymax-1882 \n",
    "img = io.imread(file_path) #Read the image\n",
    "fig = px.imshow(img)\n",
    "fig.update_layout(width=600, height=500, margin=dict(l=10, r=10, b=10, t=10),xaxis_title='Figure 8 - N2.jpeg with bounding box')\n",
    "fig.add_shape(type='rect',x0=1804, x1=2493, y0=1734, y1=1882, xref='x', yref='y',line_color='cyan')"
   ]
  },
  {
   "cell_type": "markdown",
   "id": "7d84cf7a",
   "metadata": {
    "papermill": {
     "duration": 0.21948,
     "end_time": "2022-06-17T11:06:49.555239",
     "exception": false,
     "start_time": "2022-06-17T11:06:49.335759",
     "status": "completed"
    },
    "tags": []
   },
   "source": [
    "<p id=\"part11\"></p>\n",
    "\n",
    "# <span style=\"font-family: Arials; font-size: 20px; font-style: normal; font-weight: bold; letter-spacing: 3px; text-align: center; color: #000000; line-height:1.0\">3. DATA PROCESSING</span>\n",
    "\n",
    "<p id=\"part12\"></p>\n",
    "\n",
    "# <span style=\"font-family: Arials; font-size: 16px; font-style: normal; font-weight: bold; letter-spacing: 3px; text-align: center; color: #000000; line-height:1.0\">3.1 READ DATA</span>\n",
    "\n",
    "This is a very important step, in this process we will take each and every image and convert it into an array using OpenCV and resize the image into 224 x 224 which is the standard compatible size of the pre-trained transfer learning model."
   ]
  },
  {
   "cell_type": "code",
   "execution_count": null,
   "id": "c0fc0bf9",
   "metadata": {
    "execution": {
     "iopub.execute_input": "2022-06-17T11:06:49.996411Z",
     "iopub.status.busy": "2022-06-17T11:06:49.995926Z",
     "iopub.status.idle": "2022-06-17T11:06:56.667076Z",
     "shell.execute_reply": "2022-06-17T11:06:56.666275Z"
    },
    "papermill": {
     "duration": 6.915747,
     "end_time": "2022-06-17T11:06:56.669072",
     "exception": false,
     "start_time": "2022-06-17T11:06:49.753325",
     "status": "completed"
    },
    "tags": []
   },
   "outputs": [],
   "source": [
    "#Targeting all our values in array selecting all columns\n",
    "labels = df.iloc[:,1:].values\n",
    "data = []\n",
    "output = []\n",
    "for ind in range(len(image_path)):\n",
    "    image = image_path[ind]\n",
    "    img_arr = cv2.imread(image)\n",
    "    h,w,d = img_arr.shape\n",
    "    # Prepprocesing\n",
    "    load_image = load_img(image,target_size=(224,224))\n",
    "    load_image_arr = img_to_array(load_image)\n",
    "    norm_load_image_arr = load_image_arr/255.0 # Normalization\n",
    "    # Normalization to labels\n",
    "    xmin,xmax,ymin,ymax = labels[ind]\n",
    "    nxmin,nxmax = xmin/w,xmax/w\n",
    "    nymin,nymax = ymin/h,ymax/h\n",
    "    label_norm = (nxmin,nxmax,nymin,nymax) # Normalized output\n",
    "    # Append\n",
    "    data.append(norm_load_image_arr)\n",
    "    output.append(label_norm)"
   ]
  },
  {
   "cell_type": "markdown",
   "id": "bcc6eadd",
   "metadata": {
    "papermill": {
     "duration": 0.182033,
     "end_time": "2022-06-17T11:06:57.036161",
     "exception": false,
     "start_time": "2022-06-17T11:06:56.854128",
     "status": "completed"
    },
    "tags": []
   },
   "source": [
    "After that, we will normalize the image just by dividing with maximum number as we know that the maximum number for an 8-bit image is 28 -1 = 255. That the reason we will divide our image 255.0. The way of diving an array with the maximum value is called Normalization (Min-Max Scaler). We also need to normalize our labels too. Because for the deep learning model the output range should be between 0 to 1. For normalizing labels, we need to divide the diagonal points with the width and height of the image. And finally values in a python list.\n",
    "<p id=\"part13\"></p>\n",
    "\n",
    "# <span style=\"font-family: Arials; font-size: 16px; font-style: normal; font-weight: bold; letter-spacing: 3px; text-align: center; color: #000000; line-height:1.0\">3.2 SPLIT TRAIN AND TEST SET</span>\n",
    "In the next step, we will convert the list into an array using __Numpy__."
   ]
  },
  {
   "cell_type": "code",
   "execution_count": null,
   "id": "91133dd3",
   "metadata": {
    "execution": {
     "iopub.execute_input": "2022-06-17T11:06:57.411027Z",
     "iopub.status.busy": "2022-06-17T11:06:57.409045Z",
     "iopub.status.idle": "2022-06-17T11:06:57.455078Z",
     "shell.execute_reply": "2022-06-17T11:06:57.454257Z"
    },
    "papermill": {
     "duration": 0.235864,
     "end_time": "2022-06-17T11:06:57.457213",
     "exception": false,
     "start_time": "2022-06-17T11:06:57.221349",
     "status": "completed"
    },
    "tags": []
   },
   "outputs": [],
   "source": [
    "# Convert data to array\n",
    "X = np.array(data,dtype=np.float32)\n",
    "y = np.array(output,dtype=np.float32)"
   ]
  },
  {
   "cell_type": "markdown",
   "id": "b7f3f21c",
   "metadata": {
    "papermill": {
     "duration": 0.185801,
     "end_time": "2022-06-17T11:06:57.825926",
     "exception": false,
     "start_time": "2022-06-17T11:06:57.640125",
     "status": "completed"
    },
    "tags": []
   },
   "source": [
    "Now split the data into training and testing set using __sklearn__."
   ]
  },
  {
   "cell_type": "code",
   "execution_count": null,
   "id": "c5e0a6cd",
   "metadata": {
    "execution": {
     "iopub.execute_input": "2022-06-17T11:06:58.200464Z",
     "iopub.status.busy": "2022-06-17T11:06:58.199969Z",
     "iopub.status.idle": "2022-06-17T11:06:58.247091Z",
     "shell.execute_reply": "2022-06-17T11:06:58.246202Z"
    },
    "papermill": {
     "duration": 0.237411,
     "end_time": "2022-06-17T11:06:58.249252",
     "exception": false,
     "start_time": "2022-06-17T11:06:58.011841",
     "status": "completed"
    },
    "tags": []
   },
   "outputs": [],
   "source": [
    "# Split the data into training and testing set using sklearn.\n",
    "x_train,x_test,y_train,y_test = train_test_split(X,y,train_size=0.8,random_state=0)\n",
    "x_train.shape,x_test.shape,y_train.shape,y_test.shape"
   ]
  },
  {
   "cell_type": "markdown",
   "id": "5ecee048",
   "metadata": {
    "papermill": {
     "duration": 0.184556,
     "end_time": "2022-06-17T11:06:58.616065",
     "exception": false,
     "start_time": "2022-06-17T11:06:58.431509",
     "status": "completed"
    },
    "tags": []
   },
   "source": [
    "<p id=\"part14\"></p>\n",
    "\n",
    "# <span style=\"font-family: Arials; font-size: 20px; font-style: normal; font-weight: bold; letter-spacing: 3px; text-align: center; color: #000000; line-height:1.0\">4. DEEP LEARNING FOR OBJECT DETECTION </span>\n",
    "\n",
    "<p id=\"part15\"></p>\n",
    "\n",
    "# <span style=\"font-family: Arials; font-size: 16px; font-style: normal; font-weight: bold; letter-spacing: 3px; text-align: center; color: #000000; line-height:1.0\">4.1 INCEPTION-RESNET-V2 MODEL BUILDING</span>\n",
    "\n",
    "Inception-ResNet-v2 is a convolutional neural network that is trained on more than a million images from the ImageNet database. The network is 164 layers deep and can classify images into 1000 object categories, such as keyboard, mouse, pencil, and many animals. As a result, the network has learned rich feature representations for a wide range of images. The Inception-ResNet-v2 was used for the classification task. The architecture of the network is shown in Figure 9 . Inception-Resnet-v2 is formulated based on a combination of the Inception structure and the Residual connection. In the Inception-Resnet block multiple sized convolutional filters are combined by residual connections. The usage of reyfual connections not only avoids the degradation problm caused by deep structures but also reduces the training time.\n",
    "\n",
    "<img src= \"https://github.com/Asikpalysik/Automatic-License-Plate-Detection/blob/main/Presentation/Notebook7.png?raw=true\" width=\"50%\" align=\"center\"  hspace=\"5%\" vspace=\"5%\"/>\n",
    "\n",
    "We are ready to train a deep learning model for object detection. Here we will use the Inception-ResNet-v2 model with pre-trained weights and train this to our data. We are already import necessary libraries from TensorFlow previously, lets continue.\n"
   ]
  },
  {
   "cell_type": "code",
   "execution_count": null,
   "id": "a39b7a19",
   "metadata": {
    "execution": {
     "iopub.execute_input": "2022-06-17T11:06:58.990355Z",
     "iopub.status.busy": "2022-06-17T11:06:58.989837Z",
     "iopub.status.idle": "2022-06-17T11:07:07.571691Z",
     "shell.execute_reply": "2022-06-17T11:07:07.570890Z"
    },
    "papermill": {
     "duration": 8.771785,
     "end_time": "2022-06-17T11:07:07.573810",
     "exception": false,
     "start_time": "2022-06-17T11:06:58.802025",
     "status": "completed"
    },
    "tags": []
   },
   "outputs": [],
   "source": [
    "inception_resnet = InceptionResNetV2(weights=\"imagenet\",include_top=False, input_tensor=Input(shape=(224,224,3)))\n",
    "# ---------------------\n",
    "headmodel = inception_resnet.output\n",
    "headmodel = Flatten()(headmodel)\n",
    "headmodel = Dense(500,activation=\"relu\")(headmodel)\n",
    "headmodel = Dense(250,activation=\"relu\")(headmodel)\n",
    "headmodel = Dense(4,activation='sigmoid')(headmodel)\n",
    "\n",
    "\n",
    "# ---------- model\n",
    "model = Model(inputs=inception_resnet.input,outputs=headmodel)"
   ]
  },
  {
   "cell_type": "markdown",
   "id": "8d2eb058",
   "metadata": {
    "papermill": {
     "duration": 0.183207,
     "end_time": "2022-06-17T11:07:07.944043",
     "exception": false,
     "start_time": "2022-06-17T11:07:07.760836",
     "status": "completed"
    },
    "tags": []
   },
   "source": [
    "Now compile the model and  have a look at our summary. Don't de surprise summary will be a bit massiv. The summary is textual and includes information about: The layers and their order in the model. The output shape of each layer. The number of parameters (weights) in each layer."
   ]
  },
  {
   "cell_type": "code",
   "execution_count": null,
   "id": "4d81f154",
   "metadata": {
    "execution": {
     "iopub.execute_input": "2022-06-17T11:07:08.315951Z",
     "iopub.status.busy": "2022-06-17T11:07:08.315352Z",
     "iopub.status.idle": "2022-06-17T11:07:08.423694Z",
     "shell.execute_reply": "2022-06-17T11:07:08.422939Z"
    },
    "papermill": {
     "duration": 0.301999,
     "end_time": "2022-06-17T11:07:08.431697",
     "exception": false,
     "start_time": "2022-06-17T11:07:08.129698",
     "status": "completed"
    },
    "tags": []
   },
   "outputs": [],
   "source": [
    "# Complie model\n",
    "model.compile(loss='mse',optimizer=tf.keras.optimizers.Adam(learning_rate=1e-4))\n",
    "model.summary()"
   ]
  },
  {
   "cell_type": "markdown",
   "id": "6a724c63",
   "metadata": {
    "papermill": {
     "duration": 0.18758,
     "end_time": "2022-06-17T11:07:08.820513",
     "exception": false,
     "start_time": "2022-06-17T11:07:08.632933",
     "status": "completed"
    },
    "tags": []
   },
   "source": [
    "<p id=\"part16\"></p>\n",
    "\n",
    "# <span style=\"font-family: Arials; font-size: 16px; font-style: normal; font-weight: bold; letter-spacing: 3px; text-align: center; color: #000000; line-height:1.0\">4.2 INCEPTION-RESNET-V2 TRAINING AND SAVE</span>"
   ]
  },
  {
   "cell_type": "code",
   "execution_count": null,
   "id": "3ad81af2",
   "metadata": {
    "execution": {
     "iopub.execute_input": "2022-06-17T11:07:09.204657Z",
     "iopub.status.busy": "2022-06-17T11:07:09.204164Z",
     "iopub.status.idle": "2022-06-17T11:17:47.236494Z",
     "shell.execute_reply": "2022-06-17T11:17:47.235560Z"
    },
    "papermill": {
     "duration": 638.227984,
     "end_time": "2022-06-17T11:17:47.238908",
     "exception": false,
     "start_time": "2022-06-17T11:07:09.010924",
     "status": "completed"
    },
    "tags": []
   },
   "outputs": [],
   "source": [
    "tfb = TensorBoard('object_detection')\n",
    "history = model.fit(x=x_train,y=y_train,batch_size=10,epochs=180,\n",
    "                    validation_data=(x_test,y_test),callbacks=[tfb])"
   ]
  },
  {
   "cell_type": "code",
   "execution_count": null,
   "id": "968a4a50",
   "metadata": {
    "execution": {
     "iopub.execute_input": "2022-06-17T11:17:48.040319Z",
     "iopub.status.busy": "2022-06-17T11:17:48.039813Z",
     "iopub.status.idle": "2022-06-17T11:17:51.639045Z",
     "shell.execute_reply": "2022-06-17T11:17:51.638246Z"
    },
    "papermill": {
     "duration": 3.991652,
     "end_time": "2022-06-17T11:17:51.641643",
     "exception": false,
     "start_time": "2022-06-17T11:17:47.649991",
     "status": "completed"
    },
    "tags": []
   },
   "outputs": [],
   "source": [
    "model.save('./object_detection.h5')"
   ]
  },
  {
   "cell_type": "markdown",
   "id": "9026e127",
   "metadata": {
    "papermill": {
     "duration": 0.386964,
     "end_time": "2022-06-17T11:17:52.463576",
     "exception": false,
     "start_time": "2022-06-17T11:17:52.076612",
     "status": "completed"
    },
    "tags": []
   },
   "source": [
    "<p id=\"part17\"></p>\n",
    "\n",
    "# <span style=\"font-family: Arials; font-size: 16px; font-style: normal; font-weight: bold; letter-spacing: 3px; text-align: center; color: #000000; line-height:1.0\">4.3 TENSORBOARD</span>\n",
    "\n",
    "Lest have a look at on scalars on TensorBoard. In order to do it we will need to run simple command with right path for our \"object detection\". After we will see output with hosted link open it with Chrome. I was using VSCode for this project and for me it was way easy to run TensorBoard overview results, but in Kaggle it a bit more complicated and could  be disscused in other topic. For now i will show one screenshot of result which we have. We can see on scalars *Figure 12* how is our model preform. Our train and validation set don’t have over fitting behavior and our loss with respect of epochs is less.\n",
    "\n",
    "You can simple type <code>!tensorboard --logdir=\"./object_detection\"</code> it will generate link with text, click on link and here we go. <code>Serving TensorBoard on localhost; to expose to the network, use a proxy or pass --bind_all TensorBoard 2.6.0 at http://localhost:6006/ (Press CTRL+C to quit)</code>\n",
    "\n",
    "<img src= \"https://github.com/Asikpalysik/Automatic-License-Plate-Detection/blob/main/Presentation/Notebook8.png?raw=true\" width=\"80%\" align=\"center\" hspace=\"5%\" vspace=\"5%\"/>\n",
    "\n",
    "<p id=\"part18\"></p>\n",
    "\n",
    "# <span style=\"font-family: Arials; font-size: 20px; font-style: normal; font-weight: bold; letter-spacing: 3px; text-align: center; color: #000000; line-height:1.0\">5. PIPELINE OBJECT DETECTION MODEL</span>\n",
    "\n",
    "<p id=\"part19\"></p>\n",
    "\n",
    "# <span style=\"font-family: Arials; font-size: 16px; font-style: normal; font-weight: bold; letter-spacing: 3px; text-align: center; color: #000000; line-height:1.0\">5.1 MAKE PREDICTIONS</span>\n",
    "\n",
    "This is the final step in object detection. In this step, we will put it all together and get the prediction for a given image. First, I would like to try with one of my test pictures of car. Let load our model."
   ]
  },
  {
   "cell_type": "code",
   "execution_count": null,
   "id": "2d6beaae",
   "metadata": {
    "execution": {
     "iopub.execute_input": "2022-06-17T11:17:53.281519Z",
     "iopub.status.busy": "2022-06-17T11:17:53.280984Z",
     "iopub.status.idle": "2022-06-17T11:18:01.412823Z",
     "shell.execute_reply": "2022-06-17T11:18:01.411963Z"
    },
    "papermill": {
     "duration": 8.559486,
     "end_time": "2022-06-17T11:18:01.415997",
     "exception": false,
     "start_time": "2022-06-17T11:17:52.856511",
     "status": "completed"
    },
    "tags": []
   },
   "outputs": [],
   "source": [
    "# Load model\n",
    "model = tf.keras.models.load_model('./object_detection.h5')\n",
    "print('Model loaded Sucessfully')"
   ]
  },
  {
   "cell_type": "markdown",
   "id": "a64a57cd",
   "metadata": {
    "papermill": {
     "duration": 0.392439,
     "end_time": "2022-06-17T11:18:02.203595",
     "exception": false,
     "start_time": "2022-06-17T11:18:01.811156",
     "status": "completed"
    },
    "tags": []
   },
   "source": [
    "Next is loading our TEST picture with right path to it. I loaded some more images for this purpose  only - folder __TEST__."
   ]
  },
  {
   "cell_type": "code",
   "execution_count": null,
   "id": "7c3a4eb6",
   "metadata": {
    "execution": {
     "iopub.execute_input": "2022-06-17T11:18:02.995189Z",
     "iopub.status.busy": "2022-06-17T11:18:02.994691Z",
     "iopub.status.idle": "2022-06-17T11:18:03.054724Z",
     "shell.execute_reply": "2022-06-17T11:18:03.053946Z"
    },
    "papermill": {
     "duration": 0.462394,
     "end_time": "2022-06-17T11:18:03.056907",
     "exception": false,
     "start_time": "2022-06-17T11:18:02.594513",
     "status": "completed"
    },
    "tags": []
   },
   "outputs": [],
   "source": [
    "path = '../input/number-plate-detection/TEST/TEST.jpeg'\n",
    "image = load_img(path) # PIL object\n",
    "image = np.array(image,dtype=np.uint8) # 8 bit array (0,255)\n",
    "image1 = load_img(path,target_size=(224,224))\n",
    "image_arr_224 = img_to_array(image1)/255.0  # Convert into array and get the normalized output\n",
    "\n",
    "# Size of the orginal image\n",
    "h,w,d = image.shape\n",
    "print('Height of the image =',h)\n",
    "print('Width of the image =',w)\n"
   ]
  },
  {
   "cell_type": "markdown",
   "id": "fe5068f9",
   "metadata": {
    "papermill": {
     "duration": 0.43564,
     "end_time": "2022-06-17T11:18:03.878842",
     "exception": false,
     "start_time": "2022-06-17T11:18:03.443202",
     "status": "completed"
    },
    "tags": []
   },
   "source": [
    "Now we can have a look at our image *Figure 13*"
   ]
  },
  {
   "cell_type": "code",
   "execution_count": null,
   "id": "dab3fd9d",
   "metadata": {
    "execution": {
     "iopub.execute_input": "2022-06-17T11:18:04.663990Z",
     "iopub.status.busy": "2022-06-17T11:18:04.663489Z",
     "iopub.status.idle": "2022-06-17T11:18:04.825808Z",
     "shell.execute_reply": "2022-06-17T11:18:04.825143Z"
    },
    "papermill": {
     "duration": 0.566401,
     "end_time": "2022-06-17T11:18:04.836737",
     "exception": false,
     "start_time": "2022-06-17T11:18:04.270336",
     "status": "completed"
    },
    "tags": []
   },
   "outputs": [],
   "source": [
    "fig = px.imshow(image)\n",
    "fig.update_layout(width=700, height=500,  margin=dict(l=10, r=10, b=10, t=10), xaxis_title='Figure 13 - TEST Image')"
   ]
  },
  {
   "cell_type": "markdown",
   "id": "cc8e99a7",
   "metadata": {
    "papermill": {
     "duration": 0.430006,
     "end_time": "2022-06-17T11:18:05.678271",
     "exception": false,
     "start_time": "2022-06-17T11:18:05.248265",
     "status": "completed"
    },
    "tags": []
   },
   "source": [
    "So, let's look into the shape of my image."
   ]
  },
  {
   "cell_type": "code",
   "execution_count": null,
   "id": "c8ba5485",
   "metadata": {
    "execution": {
     "iopub.execute_input": "2022-06-17T11:18:06.490076Z",
     "iopub.status.busy": "2022-06-17T11:18:06.489581Z",
     "iopub.status.idle": "2022-06-17T11:18:06.499323Z",
     "shell.execute_reply": "2022-06-17T11:18:06.498655Z"
    },
    "papermill": {
     "duration": 0.418671,
     "end_time": "2022-06-17T11:18:06.501508",
     "exception": false,
     "start_time": "2022-06-17T11:18:06.082837",
     "status": "completed"
    },
    "tags": []
   },
   "outputs": [],
   "source": [
    "image_arr_224.shape"
   ]
  },
  {
   "cell_type": "markdown",
   "id": "747bba9e",
   "metadata": {
    "papermill": {
     "duration": 0.452006,
     "end_time": "2022-06-17T11:18:07.357812",
     "exception": false,
     "start_time": "2022-06-17T11:18:06.905806",
     "status": "completed"
    },
    "tags": []
   },
   "source": [
    "But in order to pass this image of a model, we need to provide the data in the dynamic fourth dimension. And what one indicates is a number of images. So here we are just passing only one image."
   ]
  },
  {
   "cell_type": "code",
   "execution_count": null,
   "id": "3668d268",
   "metadata": {
    "execution": {
     "iopub.execute_input": "2022-06-17T11:18:08.172099Z",
     "iopub.status.busy": "2022-06-17T11:18:08.171291Z",
     "iopub.status.idle": "2022-06-17T11:18:08.179551Z",
     "shell.execute_reply": "2022-06-17T11:18:08.178840Z"
    },
    "papermill": {
     "duration": 0.417939,
     "end_time": "2022-06-17T11:18:08.181470",
     "exception": false,
     "start_time": "2022-06-17T11:18:07.763531",
     "status": "completed"
    },
    "tags": []
   },
   "outputs": [],
   "source": [
    "test_arr = image_arr_224.reshape(1,224,224,3)\n",
    "test_arr.shape"
   ]
  },
  {
   "cell_type": "markdown",
   "id": "6993ad25",
   "metadata": {
    "papermill": {
     "duration": 0.405228,
     "end_time": "2022-06-17T11:18:08.988182",
     "exception": false,
     "start_time": "2022-06-17T11:18:08.582954",
     "status": "completed"
    },
    "tags": []
   },
   "source": [
    "<p id=\"part20\"></p>\n",
    "\n",
    "# <span style=\"font-family: Arials; font-size: 16px; font-style: normal; font-weight: bold; letter-spacing: 3px; text-align: center; color: #000000; line-height:1.0\">5.2 DE-NORMALIZE THE OUTPUT</span>"
   ]
  },
  {
   "cell_type": "code",
   "execution_count": null,
   "id": "0aaf957f",
   "metadata": {
    "execution": {
     "iopub.execute_input": "2022-06-17T11:18:09.803580Z",
     "iopub.status.busy": "2022-06-17T11:18:09.803098Z",
     "iopub.status.idle": "2022-06-17T11:18:13.671639Z",
     "shell.execute_reply": "2022-06-17T11:18:13.670734Z"
    },
    "papermill": {
     "duration": 4.275517,
     "end_time": "2022-06-17T11:18:13.673493",
     "exception": false,
     "start_time": "2022-06-17T11:18:09.397976",
     "status": "completed"
    },
    "tags": []
   },
   "outputs": [],
   "source": [
    "# Make predictions\n",
    "coords = model.predict(test_arr)\n",
    "coords"
   ]
  },
  {
   "cell_type": "markdown",
   "id": "bec4efd1",
   "metadata": {
    "papermill": {
     "duration": 0.454951,
     "end_time": "2022-06-17T11:18:14.530909",
     "exception": false,
     "start_time": "2022-06-17T11:18:14.075958",
     "status": "completed"
    },
    "tags": []
   },
   "source": [
    "We have got the output from the model and output what we got is the normalized output. So, what we need to do is to convert back into our original form values, which actually we did in during the training process, in the training process, we have the original form values and convert that normalized one. So basically, we will de-normalize the values back."
   ]
  },
  {
   "cell_type": "code",
   "execution_count": null,
   "id": "e0593c2d",
   "metadata": {
    "execution": {
     "iopub.execute_input": "2022-06-17T11:18:15.351704Z",
     "iopub.status.busy": "2022-06-17T11:18:15.351208Z",
     "iopub.status.idle": "2022-06-17T11:18:15.362024Z",
     "shell.execute_reply": "2022-06-17T11:18:15.360983Z"
    },
    "papermill": {
     "duration": 0.425456,
     "end_time": "2022-06-17T11:18:15.363729",
     "exception": false,
     "start_time": "2022-06-17T11:18:14.938273",
     "status": "completed"
    },
    "tags": []
   },
   "outputs": [],
   "source": [
    "# Denormalize the values\n",
    "denorm = np.array([w,w,h,h])\n",
    "coords = coords * denorm\n",
    "coords"
   ]
  },
  {
   "cell_type": "markdown",
   "id": "7f47d3ab",
   "metadata": {
    "papermill": {
     "duration": 0.408614,
     "end_time": "2022-06-17T11:18:16.184850",
     "exception": false,
     "start_time": "2022-06-17T11:18:15.776236",
     "status": "completed"
    },
    "tags": []
   },
   "source": [
    "<p id=\"part21\"></p>\n",
    "\n",
    "# <span style=\"font-family: Arials; font-size: 16px; font-style: normal; font-weight: bold; letter-spacing: 3px; text-align: center; color: #000000; line-height:1.0\">5.3 BOUNDING BOX</span>\n",
    "\n",
    "Now we will draw bounding box on top of the image. I just want to provide the two diagonal points. Let's make use of these points and let's draw the rectangle box."
   ]
  },
  {
   "cell_type": "code",
   "execution_count": null,
   "id": "879106dc",
   "metadata": {
    "execution": {
     "iopub.execute_input": "2022-06-17T11:18:17.000596Z",
     "iopub.status.busy": "2022-06-17T11:18:17.000118Z",
     "iopub.status.idle": "2022-06-17T11:18:17.007796Z",
     "shell.execute_reply": "2022-06-17T11:18:17.006977Z"
    },
    "papermill": {
     "duration": 0.419589,
     "end_time": "2022-06-17T11:18:17.011847",
     "exception": false,
     "start_time": "2022-06-17T11:18:16.592258",
     "status": "completed"
    },
    "tags": []
   },
   "outputs": [],
   "source": [
    "coords = coords.astype(np.int32)\n",
    "coords"
   ]
  },
  {
   "cell_type": "code",
   "execution_count": null,
   "id": "ec9745b5",
   "metadata": {
    "execution": {
     "iopub.execute_input": "2022-06-17T11:18:17.862122Z",
     "iopub.status.busy": "2022-06-17T11:18:17.861635Z",
     "iopub.status.idle": "2022-06-17T11:18:17.871619Z",
     "shell.execute_reply": "2022-06-17T11:18:17.870516Z"
    },
    "papermill": {
     "duration": 0.461227,
     "end_time": "2022-06-17T11:18:17.873987",
     "exception": false,
     "start_time": "2022-06-17T11:18:17.412760",
     "status": "completed"
    },
    "tags": []
   },
   "outputs": [],
   "source": [
    "# Draw bounding on top the image\n",
    "xmin, xmax,ymin,ymax = coords[0]\n",
    "pt1 =(xmin,ymin)\n",
    "pt2 =(xmax,ymax)\n",
    "print(pt1, pt2)"
   ]
  },
  {
   "cell_type": "code",
   "execution_count": null,
   "id": "50157521",
   "metadata": {
    "execution": {
     "iopub.execute_input": "2022-06-17T11:18:18.693520Z",
     "iopub.status.busy": "2022-06-17T11:18:18.693053Z",
     "iopub.status.idle": "2022-06-17T11:18:18.852389Z",
     "shell.execute_reply": "2022-06-17T11:18:18.851733Z"
    },
    "papermill": {
     "duration": 0.584186,
     "end_time": "2022-06-17T11:18:18.863477",
     "exception": false,
     "start_time": "2022-06-17T11:18:18.279291",
     "status": "completed"
    },
    "tags": []
   },
   "outputs": [],
   "source": [
    "cv2.rectangle(image,pt1,pt2,(0,255,0),3)\n",
    "fig = px.imshow(image)\n",
    "fig.update_layout(width=700, height=500, margin=dict(l=10, r=10, b=10, t=10))"
   ]
  },
  {
   "cell_type": "markdown",
   "id": "be9e67ac",
   "metadata": {
    "papermill": {
     "duration": 0.660899,
     "end_time": "2022-06-17T11:18:19.952456",
     "exception": false,
     "start_time": "2022-06-17T11:18:19.291557",
     "status": "completed"
    },
    "tags": []
   },
   "source": [
    "<p id=\"part22\"></p>\n",
    "\n",
    "# <span style=\"font-family: Arials; font-size: 16px; font-style: normal; font-weight: bold; letter-spacing: 3px; text-align: center; color: #000000; line-height:1.0\">5.4 CREATE PIPELINE</span>\n",
    "\n",
    "Now what we'll do, let's put it all together in one place and create function. And in the end visualize it. Our output will return image and coordinates of bounding box."
   ]
  },
  {
   "cell_type": "code",
   "execution_count": null,
   "id": "b8be77f8",
   "metadata": {
    "execution": {
     "iopub.execute_input": "2022-06-17T11:18:20.823851Z",
     "iopub.status.busy": "2022-06-17T11:18:20.823333Z",
     "iopub.status.idle": "2022-06-17T11:18:21.086674Z",
     "shell.execute_reply": "2022-06-17T11:18:21.085992Z"
    },
    "papermill": {
     "duration": 0.701596,
     "end_time": "2022-06-17T11:18:21.097506",
     "exception": false,
     "start_time": "2022-06-17T11:18:20.395910",
     "status": "completed"
    },
    "tags": []
   },
   "outputs": [],
   "source": [
    "# Create pipeline\n",
    "path = '../input/number-plate-detection/TEST/TEST.jpeg'\n",
    "def object_detection(path):\n",
    "    \n",
    "    # Read image\n",
    "    image = load_img(path) # PIL object\n",
    "    image = np.array(image,dtype=np.uint8) # 8 bit array (0,255)\n",
    "    image1 = load_img(path,target_size=(224,224))\n",
    "    \n",
    "    # Data preprocessing\n",
    "    image_arr_224 = img_to_array(image1)/255.0 # Convert to array & normalized\n",
    "    h,w,d = image.shape\n",
    "    test_arr = image_arr_224.reshape(1,224,224,3)\n",
    "    \n",
    "    # Make predictions\n",
    "    coords = model.predict(test_arr)\n",
    "    \n",
    "    # Denormalize the values\n",
    "    denorm = np.array([w,w,h,h])\n",
    "    coords = coords * denorm\n",
    "    coords = coords.astype(np.int32)\n",
    "    \n",
    "    # Draw bounding on top the image\n",
    "    xmin, xmax,ymin,ymax = coords[0]\n",
    "    pt1 =(xmin,ymin)\n",
    "    pt2 =(xmax,ymax)\n",
    "    print(pt1, pt2)\n",
    "    cv2.rectangle(image,pt1,pt2,(0,255,0),3)\n",
    "    return image, coords\n",
    "\n",
    "image, cods = object_detection(path)\n",
    "\n",
    "fig = px.imshow(image)\n",
    "fig.update_layout(width=700, height=500, margin=dict(l=10, r=10, b=10, t=10),xaxis_title='Figure 14')"
   ]
  },
  {
   "cell_type": "markdown",
   "id": "8c756d30",
   "metadata": {
    "papermill": {
     "duration": 1.042694,
     "end_time": "2022-06-17T11:18:22.761125",
     "exception": false,
     "start_time": "2022-06-17T11:18:21.718431",
     "status": "completed"
    },
    "tags": []
   },
   "source": [
    "<p id=\"part23\"></p>\n",
    "\n",
    "# <span style=\"font-family: Arials; font-size: 20px; font-style: normal; font-weight: bold; letter-spacing: 3px; text-align: center; color: #000000; line-height:1.0\">6. OPTICAL CHARACTER RECOGNITION - OCR</span>\n",
    "<hr style=\"height: 0.5px; border: 0; background-color: #000000\">\n",
    "\n",
    "<p id=\"part24\"></p>\n",
    "\n",
    "# <span style=\"font-family: Arials; font-size: 16px; font-style: normal; font-weight: bold; letter-spacing: 3px; text-align: center; color: #000000; line-height:1.0\">6.1 TESSERACT OCR</span>\n",
    "\n",
    "Optical character recognition (OCR) software that is used to extract text from the image. Tesseract OCR have a python API and it is open source. Firstly, we will do installation of it. It pretty simple and depend on you OS. You can find manual and files to download for installation [here](https://guides.library.illinois.edu/c.php?g=347520&p=4121425).\n",
    "\n",
    "<p id=\"part25\"></p>\n",
    "\n",
    "# <span style=\"font-family: Arials; font-size: 16px; font-style: normal; font-weight: bold; letter-spacing: 3px; text-align: center; color: #000000; line-height:1.0\">6.2 LIMITATIONS OF PYTESSERACT</span>\n",
    "\n",
    "Tesseract works best when there is a clean segmentation of the foreground text from the background. In practice, it can be extremely challenging to guarantee these types of setups. There are a variety of reasons you might not get good quality output from Tesseract like if the image has noise on the background. The better the image quality (size, contrast, lightning) the better the recognition result. It requires a bit of preprocessing to improve the OCR results, images need to be scaled appropriately, have as much image contrast as possible, and the text must be horizontally aligned. Tesseract OCR is quite powerful but does have the following limitations.\n",
    "\n",
    "__Tesseract limitations summed in the list.__\n",
    "<ul>\n",
    "  <li>The OCR is not as accurate as some commercial solutions available to us.</li>\n",
    "  <li>Doesn't do well with images affected by artifacts including partial occlusion, distorted perspective, and complex background.</li>\n",
    "  <li>It is not capable of recognizing handwriting.</li>\n",
    "  <li>It may find gibberish and report this as OCR output.</li>\n",
    "  <li>If a document contains languages outside of those given in the -l LANG arguments, results may be poor.</li>  \n",
    "  <li>It is not always good at analyzing the natural reading order of documents. For example, it may fail to recognize that a document contains two columns, and may try to join text across columns.</li>\n",
    "  <li>Poor quality scans may produce poor quality OCR.</li>\n",
    "  <li>It does not expose information about what font family text belongs to.</li>\n",
    "</ul>\n",
    "\n",
    "<p id=\"part26\"></p>\n",
    "\n",
    "# <span style=\"font-family: Arials; font-size: 16px; font-style: normal; font-weight: bold; letter-spacing: 3px; text-align: center; color: #000000; line-height:1.0\">6.3 EXTRACT NUMBER PLATE TEXT FROM IMAGE</span>\n",
    "\n",
    "Firstly, we will load our image and convert to array. Crop our bounding box with coordinates of it. We will identify region of interest (ROI) and have look at our cropped image *Figure 15*."
   ]
  },
  {
   "cell_type": "code",
   "execution_count": null,
   "id": "45f469a2",
   "metadata": {
    "execution": {
     "iopub.execute_input": "2022-06-17T11:18:23.706049Z",
     "iopub.status.busy": "2022-06-17T11:18:23.705543Z",
     "iopub.status.idle": "2022-06-17T11:18:23.772091Z",
     "shell.execute_reply": "2022-06-17T11:18:23.771216Z"
    },
    "papermill": {
     "duration": 0.519265,
     "end_time": "2022-06-17T11:18:23.774194",
     "exception": false,
     "start_time": "2022-06-17T11:18:23.254929",
     "status": "completed"
    },
    "tags": []
   },
   "outputs": [],
   "source": [
    "img = np.array(load_img(path))\n",
    "xmin ,xmax,ymin,ymax = cods[0]\n",
    "roi = img[ymin:ymax,xmin:xmax]\n",
    "fig = px.imshow(roi)\n",
    "fig.update_layout(width=350, height=250, margin=dict(l=10, r=10, b=10, t=10),xaxis_title='Figure 15 Cropped image')"
   ]
  },
  {
   "cell_type": "markdown",
   "id": "e25429d6",
   "metadata": {
    "papermill": {
     "duration": 0.450419,
     "end_time": "2022-06-17T11:18:24.696202",
     "exception": false,
     "start_time": "2022-06-17T11:18:24.245783",
     "status": "completed"
    },
    "tags": []
   },
   "source": [
    "With use of tesseract, we will extract the text from the mage.\n"
   ]
  },
  {
   "cell_type": "code",
   "execution_count": null,
   "id": "60d923ad",
   "metadata": {
    "execution": {
     "iopub.execute_input": "2022-06-17T11:18:25.638559Z",
     "iopub.status.busy": "2022-06-17T11:18:25.638071Z",
     "iopub.status.idle": "2022-06-17T11:18:26.007738Z",
     "shell.execute_reply": "2022-06-17T11:18:26.006677Z"
    },
    "papermill": {
     "duration": 0.843016,
     "end_time": "2022-06-17T11:18:26.009768",
     "exception": false,
     "start_time": "2022-06-17T11:18:25.166752",
     "status": "completed"
    },
    "tags": []
   },
   "outputs": [],
   "source": [
    "# extract text from image\n",
    "text = pt.image_to_string(roi)\n",
    "print(text)"
   ]
  },
  {
   "cell_type": "markdown",
   "id": "6e40473c",
   "metadata": {
    "papermill": {
     "duration": 0.445796,
     "end_time": "2022-06-17T11:18:26.945320",
     "exception": false,
     "start_time": "2022-06-17T11:18:26.499524",
     "status": "completed"
    },
    "tags": []
   },
   "source": [
    "Obviously, we didn't get the proper text, but at least you can able to get 90 percent of the information. It just an example and again will need to say that as more data than better prediction. We will come to that point in future. What I realize here: First of all we don't have much data, to resolve this problem and I added to this topic more sets almost the same data sets from other kagglers posted recently. Secondly i don't see that this model perfom well be honest with you, but full process which has beed done gave as a chance to undertand concept, we will buld another model with help of YOLO and where we can see how it perfom to conpear our results. Second of of Tesseract, I already explain some limetation of it, but image preproccessing can be another topic and it could even requre to build AI on it. So, now I want you to show how to build simple web and next step after it we will start with new model."
   ]
  },
  {
   "cell_type": "markdown",
   "id": "bd6254a8",
   "metadata": {
    "papermill": {
     "duration": 0.446854,
     "end_time": "2022-06-17T11:18:27.841696",
     "exception": false,
     "start_time": "2022-06-17T11:18:27.394842",
     "status": "completed"
    },
    "tags": []
   },
   "source": [
    "<p id=\"part27\"></p>\n",
    "\n",
    "# <span style=\"font-family: Arials; font-size: 20px; font-style: normal; font-weight: bold; letter-spacing: 3px; text-align: center; color: #000000; line-height:1.0\">7. NUMBER PLATE WEB APP</span>\n",
    "<hr style=\"height: 0.5px; border: 0; background-color: #000000\">\n",
    "\n",
    "This part I’m briefly will explain all about installation and integration it to web. I do understand that some steps are self-explained but I doing it as manual and if it helps at list for one person it is meaning something for me. In other case you can skip few steps and have a couple of coffee.\n",
    "\n",
    "\n",
    "<p id=\"part28\"></p>\n",
    "\n",
    "# <span style=\"font-family: Arials; font-size: 16px; font-style: normal; font-weight: bold; letter-spacing: 3px; text-align: center; color: #000000; line-height:1.0\">7.1 REQUERED TOOLS</span>\n",
    "\n",
    "In order to run our project and we need to install [VSCode](https://code.visualstudio.com/download) and few extensions important one you can find in list below. Extensions which will help us in future.\n",
    "\n",
    "\n",
    "- [All autocomplete](https://marketplace.visualstudio.com/items?itemName=Atishay-Jain.All-Autocomplete)\n",
    "- [Python extension pack](https://marketplace.visualstudio.com/items?itemName=donjayamanne.python-extension-pack)\n",
    "- [Yaml](https://marketplace.visualstudio.com/items?itemName=redhat.vscode-yaml)\n",
    "- [Bootstrap 4, font awesome 4, font awesome 5 free & pro snippets](https://marketplace.visualstudio.com/items?itemName=thekalinga.bootstrap4-vscode)\n",
    "- [Django](https://marketplace.visualstudio.com/items?itemName=batisteo.vscode-django)  \n",
    "- [Html boilerplate](https://marketplace.visualstudio.com/items?itemName=sidthesloth.html5-boilerplate)\n",
    "- [Html snippets](https://marketplace.visualstudio.com/items?itemName=abusaidm.html-snippets)\n",
    "- [Flask-snippets](https://marketplace.visualstudio.com/items?itemName=cstrap.flask-snippets)\n",
    "\n",
    "\n",
    "<p id=\"part29\"></p>\n",
    "\n",
    "# <span style=\"font-family: Arials; font-size: 16px; font-style: normal; font-weight: bold; letter-spacing: 3px; text-align: center; color: #000000; line-height:1.0\">7.2 FLASK APP</span>\n",
    "\n",
    "Firstly, make sure install flask. `!pip install flask`. And crate new file __App.py__.\n",
    "\n",
    "\n",
    "```\n",
    "flask import Flask\n",
    "\n",
    "#Webserver gateway interface\n",
    "app = Flask (__name__)\n",
    "\n",
    "@app.route('/')\n",
    "def index():\n",
    "    return \"Hello World\"\n",
    "\n",
    "if __name__ ==\"__main__\":\n",
    "    app.run()>\n",
    " ```\n",
    "Run in as on terminal (make sure you are in same directory where is you project.) You will see output like this `Running on http://127.0.0.1:5000 (Press CTRL+C to quit)` Open URL in Chrome to check it *Figure 16*\n",
    "\n",
    "<img src= \"https://github.com/Asikpalysik/Automatic-License-Plate-Detection/blob/main/Presentation/Notebook10.png?raw=true\" width=\"50%\" align=\"center\"  hspace=\"5%\" vspace=\"5%\"/>\n",
    "\n",
    "Next create folder __templates__ in our project in folder __templates__ create new file as layout.html. Since we installed extensions just type html and choose boilerplate you will see something as on *Figure 17* and *!DOCTYPE html*\n",
    "\n",
    "<img src= \"https://github.com/Asikpalysik/Automatic-License-Plate-Detection/blob/main/Presentation/Notebook12.png?raw=true\" width=\"50%\" align=\"center\"  hspace=\"5%\" vspace=\"5%\"/>\n",
    "\n",
    "```\n",
    "<!DOCTYPE html>\n",
    "\n",
    "<html>\n",
    "    <head>\n",
    "        <meta charset=\"utf-8\">\n",
    "        <meta http-equiv=\"X-UA-Compatible\" content=\"IE=edge\">\n",
    "        <title></title>\n",
    "        <meta name=\"description\" content=\"\">\n",
    "        <meta name=\"viewport\" content=\"width=device-width, initial-scale=1\">\n",
    "        <link rel=\"stylesheet\" href=\"\">\n",
    "    </head>\n",
    "    <body>\n",
    "        <!--[if lt IE 7]>\n",
    "            <p class=\"browsehappy\">You are using an <strong>outdated</strong> browser. Please <a href=\"#\">upgrade your browser</a> to improve your experience.</p>\n",
    "        <![endif]-->\n",
    "        \n",
    "        <script src=\"\" async defer></script>\n",
    "    </body>\n",
    "</html>\n",
    "```\n",
    "\n",
    "And now we can star to build our page. We can change Title and add body type etc. We will need to modify our app.py, layout (and Bootstrap to layout you can find as well [link](https://getbootstrap.com/docs/5.2/getting-started/introduction/) here we are interesting) and adding footer. At this stage it will look as below.\n",
    "\n",
    "__app.py__\n",
    "```\n",
    "from flask import Flask, render_template\n",
    "\n",
    "#Webserver gateway interface\n",
    "app = Flask(__name__)\n",
    "\n",
    "@app.route('/')\n",
    "def index():\n",
    "    return render_template('layout.html')\n",
    "\n",
    "if __name__ == \"__main__\":\n",
    "    app.run(debug=True)\n",
    "```\n",
    "__layout.html__\n",
    "```\n",
    "<!DOCTYPE html>\n",
    "\n",
    "<html>\n",
    "  <head>\n",
    "    <meta charset=\"utf-8\" />\n",
    "    <meta http-equiv=\"X-UA-Compatible\" content=\"IE=edge\" />\n",
    "    <title>AUTOMATIC NUMBER-PLATE RECOGNITION</title>\n",
    "    <link\n",
    "      href=\"https://cdn.jsdelivr.net/npm/bootstrap@5.2.0-beta1/dist/css/bootstrap.min.css\"\n",
    "      rel=\"stylesheet\"\n",
    "      integrity=\"sha384-0evHe/X+R7YkIZDRvuzKMRqM+OrBnVFBL6DOitfPri4tjfHxaWutUpFmBp4vmVor\"\n",
    "      crossorigin=\"anonymous\"\n",
    "    />\n",
    "    <script\n",
    "      src=\"https://cdn.jsdelivr.net/npm/bootstrap@5.2.0-beta1/dist/js/bootstrap.bundle.min.js\"\n",
    "      integrity=\"sha384-pprn3073KE6tl6bjs2QrFaJGz5/SUsLqktiwsUTF55Jfv3qYSDhgCecCxMW52nD2\"\n",
    "      crossorigin=\"anonymous\"\n",
    "    ></script>\n",
    "    <meta name=\"description\" content=\"\" />\n",
    "    <meta name=\"viewport\" content=\"width=device-width, initial-scale=1\" />\n",
    "    <link rel=\"stylesheet\" href=\"\" />\n",
    "  </head>\n",
    "  <body>\n",
    "    <!-- Navigation bar -->\n",
    "    <nav class=\"navbar navbar-light\" style=\"background-color: #c1dce0\">\n",
    "      <div class=\"container\">\n",
    "        <a class=\"navbar-brand\" href=\"/\">\n",
    "          <h1 class=\"display-6\">NUMBER PLATE OCR</h1>\n",
    "        </a>\n",
    "      </div>\n",
    "    </nav>\n",
    "    <!-- Footer -->\n",
    "    <footer>\n",
    "      <hr />\n",
    "      <a href=\"http://aslanahmedov.com\"> CONTACT ME</a>\n",
    "    </footer>\n",
    "    <script src=\"\" async defer></script>\n",
    "  </body>\n",
    "</html>\n",
    "```\n",
    "<p id=\"part30\"></p>\n",
    "\n",
    "# <span style=\"font-family: Arials; font-size: 16px; font-style: normal; font-weight: bold; letter-spacing: 3px; text-align: center; color: #000000; line-height:1.0\">7.3 TEMPLATE INHERITANC</span>\n",
    "\n",
    "We will create new file as html and name it as index.html and we are planning to write all functionality to out index.html. First go to our layout.html under </nav> block our body - see below.\n",
    "```\n",
    "</nav>\n",
    "    {% block body %}\n",
    "    \n",
    "    {% endblock  %}\n",
    "```\n",
    "In index.html we need to extend layout.html and block body of it as below.\n",
    "```\n",
    "{% extends 'layout.html' %}\n",
    "{% block body %}\n",
    "{% endblock %}\n",
    "```\n",
    "In app.py change layout.html to index.html and save it. CTRL+S always-everywhere!\n",
    "We will add some forms as well to index.html see below.\n",
    "```\n",
    "{% extends 'layout.html' %} \n",
    "{% block body %}\n",
    "<div class=\"container\">\n",
    "  <br /><br /><br />\n",
    "  <form action=\"#\" method=\"POST\" enctype=\"multipart/form-data\">\n",
    "    <div class=\"input-group\">\n",
    "      <input type=\"file\" class=\"form-control\" name=\"image_name\" required />\n",
    "      <input type=\"submit\" value=\"UPLOAD\" class=\"btn btn-outline-secondary\" />\n",
    "    </div>\n",
    "  </form>\n",
    "</div>\n",
    "```\n",
    "<p id=\"part31\"></p>\n",
    "\n",
    "# <span style=\"font-family: Arials; font-size: 16px; font-style: normal; font-weight: bold; letter-spacing: 3px; text-align: center; color: #000000; line-height:1.0\">7.4 HTTP METHOD UPLOAD FILE IN FLASK</span>\n",
    "\n",
    "So now when we are upload the file, we need to receive it in flask and save it in some folder. That is called Static. For that create folder __static__ and, in this folder, create folder __upload__. In app.py (our flask) import few necessary libraries as well add methods and create base path/upload path. See below\n",
    "\n",
    "\n",
    "```\n",
    "from flask import Flask, render_template, request\n",
    "import os\n",
    "# Webserver gateway interface\n",
    "app = Flask(__name__)\n",
    "\n",
    "BASE_PATH = os.getcwd()\n",
    "UPLOAD_PATH = os.path.join(BASE_PATH, 'static/upload/')\n",
    "\n",
    "@app.route('/', methods=['POST'])\n",
    "def index():\n",
    "    if request.method == 'POST':\n",
    "        upload_file = request.files['image_name']\n",
    "        filename = upload_file.filename\n",
    "        path_save = os.path.join(UPLOAD_PATH,filename)\n",
    "        upload_file.save(path_save)\n",
    "     \n",
    "\n",
    "        return render_template('index.html')\n",
    "\n",
    "    return render_template('index.html')\n",
    "\n",
    "if __name__ == \"__main__\":\n",
    "    app.run(debug=True)\n",
    "```\n",
    "\n",
    "<p id=\"part32\"></p>\n",
    "\n",
    "# <span style=\"font-family: Arials; font-size: 16px; font-style: normal; font-weight: bold; letter-spacing: 3px; text-align: center; color: #000000; line-height:1.0\">7.5 INTEGRATE NPD AND OCR TO FLASK APP</span>\n",
    "\n",
    "Now will make use of this upload image and we will make the predictions using deep learning model. Firstly, we will create one more file and name it as deeplearning.py in this file we are simply add our pipeline basically all necessary libraries and function with correct path to model. Create as well two more folder as roi and predict in static folder in the end your code will look like [this](https://github.com/Asikpalysik/Automatic-License-Plate-Detection/blob/main/WebbApp/deeplearning.py). On flask as well \"add text\" - you can find it [here](https://github.com/Asikpalysik/Automatic-License-Plate-Detection/blob/main/WebbApp/app.py). So, we are almost done. Now when we are uploading picture of car with plate number our model predicts bounding box, crop it at same time, save outputs to folder roi and folder predict. In order to display it on web we will modify index.html and add text future to save text as well. You can find ready code [here](https://github.com/Asikpalysik/Automatic-License-Plate-Detection/blob/main/WebbApp/templates/index.html). And on *Figure 19* you can see result. All files and folder for Web please feel free to check [here](https://github.com/Asikpalysik/Automatic-License-Plate-Detection/tree/main/WebbApp).\n",
    "\n",
    "<img src= \"https://github.com/Asikpalysik/Automatic-License-Plate-Detection/blob/main/Presentation/Notebook13.png?raw=true\" width=\"100%\" align=\"center\"  hspace=\"5%\" vspace=\"5%\"/>\n",
    "\n",
    "<p id=\"part33\"></p>\n",
    "\n",
    "# <span style=\"font-family: Arials; font-size: 20px; font-style: normal; font-weight: bold; letter-spacing: 3px; text-align: center; color: #000000; line-height:1.0\">8. RAEAL TIME NUMBER PLATE RECOGNITIONT WITH YOLO</span>\n",
    "\n",
    "<p id=\"part34\"></p>\n",
    "\n",
    "# <span style=\"font-family: Arials; font-size: 16px; font-style: normal; font-weight: bold; letter-spacing: 3px; text-align: center; color: #000000; line-height:1.0\">8.1 EXPLANATION OF REQUIRED DATA</span>\n",
    "\n",
    "YOLO or You only look once, is one of the most widely used, deep learning-based object detection algorithm out there.YOLO divides an image into a grid system, and each grid detects objects within itself. They can be used for real-time object detection based on the data streams. They require very few computational resources.The network architecture of Yolov5. It consists of three parts: (1) Backbone: CSPDarknet, (2) Neck: PANet, and (3) Head: Yolo Layer. The data are first input to CSPDarknet for feature extraction, and then fed to PANet for feature fusion. Finally, Yolo Layer outputs detection results (class, score, location, size).\n",
    "\n",
    "<img src= \"https://github.com/Asikpalysik/Automatic-License-Plate-Detection/blob/main/Presentation/Notebook14.png?raw=true\" width=\"100%\" align=\"center\"  hspace=\"5%\" vspace=\"5%\"/>\n",
    "\n",
    "Our previous process is great, but there is a problem with the model. The major problem with the model is model has very low precision in detecting the license plate and also it is very, very slow processing. To overcome the above limitations, particularly the precision, we will use the most powerful of the reduction model available till now is YOLO. Now, let us see how we can use our existing data preparation to our YOLO model. The labeling and the data preprocessing work, what we have did for the existing work can be applied to the same Yola model. But there is one major difference we need to do in YOLO is our label. Previously that you have seen, we used the xmin, xmax, ymin, ymax. and VI Max is our actual output. But for YOLO is a center X-Y position of the bounding box and width and height of the bounding box, and particularly the X-Y position is referred to the center of the bounding box. Let me give you an example *Figure 20*. For this image, the labeling for the YOLO should be the center X and Y, and which should be the normalized between the width and height of the image. And W and H are the respective width and height of the bounding box normalized to width and height of the image.\n",
    "\n",
    "<img src= \"https://github.com/Asikpalysik/Automatic-License-Plate-Detection/blob/main/Presentation/Notebook9.png?raw=true\" width=\"100%\" align=\"center\"  hspace=\"5%\" vspace=\"5%\"/>\n",
    "\n",
    "So, in the labeling process, basically this is what the format we now have to prepare our data plus center position of X center position of Y this refers to the bounding box and width and height of the bounding box. [class, center_x, center_y, w, h]. That is what one of the changes we need to make. And the next thing is that the folder structure which we need to prepare, particularly for the YOLO, will look something like *Figure 21*.\n",
    "\n",
    "<img src= \"https://github.com/Asikpalysik/Automatic-License-Plate-Detection/blob/main/Presentation/Notebook11.png?raw=true\" width=\"100%\" align=\"center\"  hspace=\"5%\" vspace=\"5%\"/>\n",
    "\n",
    "Let consider the data images. Inside the data images we should how train and test. In the training test folder, we have to maintain all out images related to the training and the corresponding labels should be there in .txt format. And moreover, the label information data should consist same name as our image. Just like our training data, we will also prepare our test data.\n",
    "\n",
    "I will write function and using that function, I can try to extract weight of the image, height of the image and also the file name from the xml files. Creating function parsing and return will be our filename, wight and height and apply all to our data frame as below. "
   ]
  },
  {
   "cell_type": "code",
   "execution_count": null,
   "id": "34551b9b",
   "metadata": {
    "execution": {
     "iopub.execute_input": "2022-06-17T11:18:28.737353Z",
     "iopub.status.busy": "2022-06-17T11:18:28.736800Z",
     "iopub.status.idle": "2022-06-17T11:18:28.956364Z",
     "shell.execute_reply": "2022-06-17T11:18:28.955496Z"
    },
    "papermill": {
     "duration": 0.671852,
     "end_time": "2022-06-17T11:18:28.958688",
     "exception": false,
     "start_time": "2022-06-17T11:18:28.286836",
     "status": "completed"
    },
    "tags": []
   },
   "outputs": [],
   "source": [
    "# parsing\n",
    "def parsing(path):\n",
    "    parser = xet.parse(path).getroot()\n",
    "    name = parser.find('filename').text\n",
    "    filename = f'../input/number-plate-detection/images/{name}'\n",
    "\n",
    "    # width and height\n",
    "    parser_size = parser.find('size')\n",
    "    width = int(parser_size.find('width').text)\n",
    "    height = int(parser_size.find('height').text)\n",
    "    \n",
    "    return filename, width, height\n",
    "df[['filename','width','height']] = df['filepath'].apply(parsing).apply(pd.Series)\n",
    "df.head()"
   ]
  },
  {
   "cell_type": "markdown",
   "id": "e5ab02f5",
   "metadata": {
    "papermill": {
     "duration": 0.444924,
     "end_time": "2022-06-17T11:18:29.845858",
     "exception": false,
     "start_time": "2022-06-17T11:18:29.400934",
     "status": "completed"
    },
    "tags": []
   },
   "source": [
    "Now the next step is let me calculate the center_x, center_y, width and height, which is normalized to width and height. And as well normalize width and height of bounding box."
   ]
  },
  {
   "cell_type": "code",
   "execution_count": null,
   "id": "54b603f9",
   "metadata": {
    "execution": {
     "iopub.execute_input": "2022-06-17T11:18:30.851420Z",
     "iopub.status.busy": "2022-06-17T11:18:30.850922Z",
     "iopub.status.idle": "2022-06-17T11:18:30.873588Z",
     "shell.execute_reply": "2022-06-17T11:18:30.872842Z"
    },
    "papermill": {
     "duration": 0.475468,
     "end_time": "2022-06-17T11:18:30.875656",
     "exception": false,
     "start_time": "2022-06-17T11:18:30.400188",
     "status": "completed"
    },
    "tags": []
   },
   "outputs": [],
   "source": [
    "# center_x, center_y, width , height\n",
    "df['center_x'] = (df['xmax'] + df['xmin'])/(2*df['width'])\n",
    "df['center_y'] = (df['ymax'] + df['ymin'])/(2*df['height'])\n",
    "\n",
    "df['bb_width'] = (df['xmax'] - df['xmin'])/df['width']\n",
    "df['bb_height'] = (df['ymax'] - df['ymin'])/df['height']\n",
    "df.head()"
   ]
  },
  {
   "cell_type": "markdown",
   "id": "d4cfed0b",
   "metadata": {
    "papermill": {
     "duration": 0.452487,
     "end_time": "2022-06-17T11:18:31.772066",
     "exception": false,
     "start_time": "2022-06-17T11:18:31.319579",
     "status": "completed"
    },
    "tags": []
   },
   "source": [
    "<p id=\"part35\"></p>\n",
    "\n",
    "# <span style=\"font-family: Arials; font-size: 16px; font-style: normal; font-weight: bold; letter-spacing: 3px; text-align: center; color: #000000; line-height:1.0\">8.2 DATA PREPARATION</span>\n",
    "\n",
    "One of the major challenges in the training of YOLO is hardware itself. YOLO requires a fast-processing chip used to get trained. It is extremely difficult to train the YOLO in normal CPUs. Firstly, we have to clone YOLOV5 to our work space. You can find it [here](https://github.com/ultralytics/yolov5) and install all requirements. Make sure you in right folder type as below, let's do it."
   ]
  },
  {
   "cell_type": "code",
   "execution_count": null,
   "id": "56b98767",
   "metadata": {
    "execution": {
     "iopub.execute_input": "2022-06-17T11:18:32.868364Z",
     "iopub.status.busy": "2022-06-17T11:18:32.867631Z",
     "iopub.status.idle": "2022-06-17T11:18:35.633268Z",
     "shell.execute_reply": "2022-06-17T11:18:35.631771Z"
    },
    "papermill": {
     "duration": 3.411419,
     "end_time": "2022-06-17T11:18:35.635717",
     "exception": false,
     "start_time": "2022-06-17T11:18:32.224298",
     "status": "completed"
    },
    "tags": []
   },
   "outputs": [],
   "source": [
    "!git clone https://github.com/ultralytics/yolov5"
   ]
  },
  {
   "cell_type": "code",
   "execution_count": null,
   "id": "9a7f3935",
   "metadata": {
    "execution": {
     "iopub.execute_input": "2022-06-17T11:18:36.582135Z",
     "iopub.status.busy": "2022-06-17T11:18:36.581594Z",
     "iopub.status.idle": "2022-06-17T11:18:47.726556Z",
     "shell.execute_reply": "2022-06-17T11:18:47.725549Z"
    },
    "papermill": {
     "duration": 11.600321,
     "end_time": "2022-06-17T11:18:47.728710",
     "exception": false,
     "start_time": "2022-06-17T11:18:36.128389",
     "status": "completed"
    },
    "tags": []
   },
   "outputs": [],
   "source": [
    "!pip install -r ./yolov5/requirements.txt"
   ]
  },
  {
   "cell_type": "markdown",
   "id": "3618b4ad",
   "metadata": {
    "papermill": {
     "duration": 0.448813,
     "end_time": "2022-06-17T11:18:48.628167",
     "exception": false,
     "start_time": "2022-06-17T11:18:48.179354",
     "status": "completed"
    },
    "tags": []
   },
   "source": [
    "We need to make a one more folder and make into it two more - name it as __data_images__ and __train__ and __test__. We will split data to train and split."
   ]
  },
  {
   "cell_type": "code",
   "execution_count": null,
   "id": "8bc2526f",
   "metadata": {
    "execution": {
     "iopub.execute_input": "2022-06-17T11:18:49.526352Z",
     "iopub.status.busy": "2022-06-17T11:18:49.525797Z",
     "iopub.status.idle": "2022-06-17T11:18:50.250180Z",
     "shell.execute_reply": "2022-06-17T11:18:50.249087Z"
    },
    "papermill": {
     "duration": 1.178862,
     "end_time": "2022-06-17T11:18:50.252366",
     "exception": false,
     "start_time": "2022-06-17T11:18:49.073504",
     "status": "completed"
    },
    "tags": []
   },
   "outputs": [],
   "source": [
    "mkdir /kaggle/working/yolov5/data_images/"
   ]
  },
  {
   "cell_type": "code",
   "execution_count": null,
   "id": "d1769015",
   "metadata": {
    "execution": {
     "iopub.execute_input": "2022-06-17T11:18:51.155572Z",
     "iopub.status.busy": "2022-06-17T11:18:51.155037Z",
     "iopub.status.idle": "2022-06-17T11:18:51.879298Z",
     "shell.execute_reply": "2022-06-17T11:18:51.878152Z"
    },
    "papermill": {
     "duration": 1.18481,
     "end_time": "2022-06-17T11:18:51.881653",
     "exception": false,
     "start_time": "2022-06-17T11:18:50.696843",
     "status": "completed"
    },
    "tags": []
   },
   "outputs": [],
   "source": [
    "mkdir /kaggle/working/yolov5/data_images/test/"
   ]
  },
  {
   "cell_type": "code",
   "execution_count": null,
   "id": "5f07c949",
   "metadata": {
    "execution": {
     "iopub.execute_input": "2022-06-17T11:18:52.832341Z",
     "iopub.status.busy": "2022-06-17T11:18:52.831771Z",
     "iopub.status.idle": "2022-06-17T11:18:53.559419Z",
     "shell.execute_reply": "2022-06-17T11:18:53.558214Z"
    },
    "papermill": {
     "duration": 1.183822,
     "end_time": "2022-06-17T11:18:53.561576",
     "exception": false,
     "start_time": "2022-06-17T11:18:52.377754",
     "status": "completed"
    },
    "tags": []
   },
   "outputs": [],
   "source": [
    "mkdir /kaggle/working/yolov5/data_images/train/"
   ]
  },
  {
   "cell_type": "code",
   "execution_count": null,
   "id": "a1ff23af",
   "metadata": {
    "execution": {
     "iopub.execute_input": "2022-06-17T11:18:54.580986Z",
     "iopub.status.busy": "2022-06-17T11:18:54.580420Z",
     "iopub.status.idle": "2022-06-17T11:18:54.594696Z",
     "shell.execute_reply": "2022-06-17T11:18:54.593714Z"
    },
    "papermill": {
     "duration": 0.569064,
     "end_time": "2022-06-17T11:18:54.597222",
     "exception": false,
     "start_time": "2022-06-17T11:18:54.028158",
     "status": "completed"
    },
    "tags": []
   },
   "outputs": [],
   "source": [
    "### split the data into train and test\n",
    "df_train = df.iloc[:200]\n",
    "df_test = df.iloc[200:]"
   ]
  },
  {
   "cell_type": "markdown",
   "id": "7d2798e1",
   "metadata": {
    "papermill": {
     "duration": 0.583316,
     "end_time": "2022-06-17T11:18:56.262382",
     "exception": false,
     "start_time": "2022-06-17T11:18:55.679066",
     "status": "completed"
    },
    "tags": []
   },
   "source": [
    "We will copy each image into the folder train and test and generate .txt which has label info."
   ]
  },
  {
   "cell_type": "code",
   "execution_count": null,
   "id": "2338f995",
   "metadata": {
    "execution": {
     "iopub.execute_input": "2022-06-17T11:18:57.170692Z",
     "iopub.status.busy": "2022-06-17T11:18:57.170110Z",
     "iopub.status.idle": "2022-06-17T11:18:57.465919Z",
     "shell.execute_reply": "2022-06-17T11:18:57.465117Z"
    },
    "papermill": {
     "duration": 0.752158,
     "end_time": "2022-06-17T11:18:57.468017",
     "exception": false,
     "start_time": "2022-06-17T11:18:56.715859",
     "status": "completed"
    },
    "tags": []
   },
   "outputs": [],
   "source": [
    "train_folder = './yolov5/data_images/train'\n",
    "\n",
    "values = df_train[['filename','center_x','center_y','bb_width','bb_height']].values\n",
    "for fname, x,y, w, h in values:\n",
    "    image_name = os.path.split(fname)[-1]\n",
    "    txt_name = os.path.splitext(image_name)[0]\n",
    "    \n",
    "    dst_image_path = os.path.join(train_folder,image_name)\n",
    "    dst_label_file = os.path.join(train_folder,txt_name+'.txt')\n",
    "    \n",
    "    # copy each image into the folder\n",
    "    copy(fname,dst_image_path)\n",
    "\n",
    "    # generate .txt which has label info\n",
    "    label_txt = f'0 {x} {y} {w} {h}'\n",
    "    with open(dst_label_file,mode='w') as f:\n",
    "        f.write(label_txt)\n",
    "        \n",
    "        f.close()\n",
    "\n",
    "test_folder = './yolov5/data_images/test'\n",
    "\n",
    "values = df_test[['filename','center_x','center_y','bb_width','bb_height']].values\n",
    "for fname, x,y, w, h in values:\n",
    "    image_name = os.path.split(fname)[-1]\n",
    "    txt_name = os.path.splitext(image_name)[0]\n",
    "    \n",
    "    dst_image_path = os.path.join(test_folder,image_name)\n",
    "    dst_label_file = os.path.join(test_folder,txt_name+'.txt')\n",
    "    \n",
    "    # copy each image into the folder\n",
    "    copy(fname,dst_image_path)\n",
    "\n",
    "    # generate .txt which has label info\n",
    "    label_txt = f'0 {x} {y} {w} {h}'\n",
    "    with open(dst_label_file,mode='w') as f:\n",
    "        f.write(label_txt)\n",
    "        \n",
    "        f.close()"
   ]
  },
  {
   "cell_type": "markdown",
   "id": "ee6877da",
   "metadata": {
    "papermill": {
     "duration": 0.454062,
     "end_time": "2022-06-17T11:18:58.413952",
     "exception": false,
     "start_time": "2022-06-17T11:18:57.959890",
     "status": "completed"
    },
    "tags": []
   },
   "source": [
    "As well I will create __data.yaml__ file with path to train and validation, as well number of classes as 1, name it in list as license plate. You will need to save this in your dataset because we will need to provide the path on it later.\n",
    "\n",
    "```\n",
    "train: data_images/train\n",
    "val: data_images/test\n",
    "nc: 1\n",
    "names: [\n",
    "    'license_plate'\n",
    "]\n",
    "```"
   ]
  },
  {
   "cell_type": "markdown",
   "id": "22344d10",
   "metadata": {
    "papermill": {
     "duration": 0.459993,
     "end_time": "2022-06-17T11:18:59.329632",
     "exception": false,
     "start_time": "2022-06-17T11:18:58.869639",
     "status": "completed"
    },
    "tags": []
   },
   "source": [
    "<p id=\"part36\"></p>\n",
    "\n",
    "# <span style=\"font-family: Arials; font-size: 16px; font-style: normal; font-weight: bold; letter-spacing: 3px; text-align: center; color: #000000; line-height:1.0\">8.3 TRAINING YOLO</span>\n",
    "\n",
    "Next step is basically train model. It could take time be ready for it. You can use Kaggle or GoogleColab for it. We already set out data.yaml file, lets us give path to it and train model. Below you will find code to cleare you GPU(It helped me a lot and will save you time.)"
   ]
  },
  {
   "cell_type": "code",
   "execution_count": null,
   "id": "a2cf6385",
   "metadata": {
    "execution": {
     "iopub.execute_input": "2022-06-17T11:19:00.352780Z",
     "iopub.status.busy": "2022-06-17T11:19:00.352248Z",
     "iopub.status.idle": "2022-06-17T11:19:14.520015Z",
     "shell.execute_reply": "2022-06-17T11:19:14.518702Z"
    },
    "papermill": {
     "duration": 14.636843,
     "end_time": "2022-06-17T11:19:14.522684",
     "exception": false,
     "start_time": "2022-06-17T11:18:59.885841",
     "status": "completed"
    },
    "tags": []
   },
   "outputs": [],
   "source": [
    "!pip install GPUtil\n",
    "\n",
    "import torch\n",
    "from GPUtil import showUtilization as gpu_usage\n",
    "from numba import cuda\n",
    "\n",
    "def free_gpu_cache():\n",
    "    print(\"Initial GPU Usage\")\n",
    "    gpu_usage()                             \n",
    "\n",
    "    torch.cuda.empty_cache()\n",
    "\n",
    "    cuda.select_device(0)\n",
    "    cuda.close()\n",
    "    cuda.select_device(0)\n",
    "\n",
    "    print(\"GPU Usage after emptying the cache\")\n",
    "    gpu_usage()\n",
    "\n",
    "free_gpu_cache()  "
   ]
  },
  {
   "cell_type": "code",
   "execution_count": null,
   "id": "536ecd62",
   "metadata": {
    "execution": {
     "iopub.execute_input": "2022-06-17T11:19:15.430986Z",
     "iopub.status.busy": "2022-06-17T11:19:15.430092Z",
     "iopub.status.idle": "2022-06-17T11:37:37.671913Z",
     "shell.execute_reply": "2022-06-17T11:37:37.670921Z"
    },
    "papermill": {
     "duration": 1102.702731,
     "end_time": "2022-06-17T11:37:37.673918",
     "exception": false,
     "start_time": "2022-06-17T11:19:14.971187",
     "status": "completed"
    },
    "tags": []
   },
   "outputs": [],
   "source": [
    "!python ./yolov5/train.py --data ../input/number-plate-detection/data.yaml --cfg ./yolov5/models/yolov5s.yaml --batch-size 8 --name Model --epochs 100"
   ]
  },
  {
   "cell_type": "markdown",
   "id": "8077de58",
   "metadata": {
    "papermill": {
     "duration": 0.697576,
     "end_time": "2022-06-17T11:37:39.059679",
     "exception": false,
     "start_time": "2022-06-17T11:37:38.362103",
     "status": "completed"
    },
    "tags": []
   },
   "source": [
    "When model trained, we need to save our it in order to use it at OCR in onnx format as below:"
   ]
  },
  {
   "cell_type": "code",
   "execution_count": null,
   "id": "629a0fef",
   "metadata": {
    "execution": {
     "iopub.execute_input": "2022-06-17T11:37:40.502267Z",
     "iopub.status.busy": "2022-06-17T11:37:40.501864Z",
     "iopub.status.idle": "2022-06-17T11:38:03.392230Z",
     "shell.execute_reply": "2022-06-17T11:38:03.391195Z"
    },
    "papermill": {
     "duration": 23.629128,
     "end_time": "2022-06-17T11:38:03.394658",
     "exception": false,
     "start_time": "2022-06-17T11:37:39.765530",
     "status": "completed"
    },
    "tags": []
   },
   "outputs": [],
   "source": [
    "!python ./yolov5/export.py --weight ./yolov5/runs/train/Model/weights/best.pt --include torchscript onnx"
   ]
  },
  {
   "cell_type": "markdown",
   "id": "820e8ec6",
   "metadata": {
    "papermill": {
     "duration": 0.683624,
     "end_time": "2022-06-17T11:38:04.767706",
     "exception": false,
     "start_time": "2022-06-17T11:38:04.084082",
     "status": "completed"
    },
    "tags": []
   },
   "source": [
    "All right, we have successfully safed our model after unzip it. We can notice that there is a model folder.\n",
    "We can find predicted pictures and we are able to detect the license plate very accurately. There might be the few wrong results, but still our model detects the license plate accurately. PR cow is eventually very  important for me that will tell you the detection rate. We can see that our precision recall tell us that we can able to detect our model with 0.92 Precision and 0.5 mean Average Precision, you can find example of one of val_batch below\n",
    "<img src= \"https://github.com/Asikpalysik/Automatic-License-Plate-Detection/blob/main/Presentation/Notebook15.png?raw=true\" width=\"100%\" align=\"center\"  hspace=\"5%\" vspace=\"5%\"/>\n",
    "\n",
    "<p id=\"part37\"></p>\n",
    "\n",
    "# <span style=\"font-family: Arials; font-size: 16px; font-style: normal; font-weight: bold; letter-spacing: 3px; text-align: center; color: #000000; line-height:1.0\">8.4 PREDICTING RESULTS FROM YOLO</span>\n",
    "\n",
    "Let’s do some images settings which is omportant to provide in model construction.  Input settings we need to pass as 640 by 640."
   ]
  },
  {
   "cell_type": "code",
   "execution_count": null,
   "id": "247d6917",
   "metadata": {
    "execution": {
     "iopub.execute_input": "2022-06-17T11:38:06.513005Z",
     "iopub.status.busy": "2022-06-17T11:38:06.512375Z",
     "iopub.status.idle": "2022-06-17T11:38:06.517975Z",
     "shell.execute_reply": "2022-06-17T11:38:06.517124Z"
    },
    "papermill": {
     "duration": 1.063284,
     "end_time": "2022-06-17T11:38:06.522988",
     "exception": false,
     "start_time": "2022-06-17T11:38:05.459704",
     "status": "completed"
    },
    "tags": []
   },
   "outputs": [],
   "source": [
    "# settings\n",
    "INPUT_WIDTH =  640\n",
    "INPUT_HEIGHT = 640"
   ]
  },
  {
   "cell_type": "markdown",
   "id": "be713b89",
   "metadata": {
    "papermill": {
     "duration": 0.683787,
     "end_time": "2022-06-17T11:38:08.142838",
     "exception": false,
     "start_time": "2022-06-17T11:38:07.459051",
     "status": "completed"
    },
    "tags": []
   },
   "source": [
    "Let me first load TEST image, it will have a plate number on it."
   ]
  },
  {
   "cell_type": "code",
   "execution_count": null,
   "id": "fac12cab",
   "metadata": {
    "execution": {
     "iopub.execute_input": "2022-06-17T11:38:09.612011Z",
     "iopub.status.busy": "2022-06-17T11:38:09.611542Z",
     "iopub.status.idle": "2022-06-17T11:38:09.940824Z",
     "shell.execute_reply": "2022-06-17T11:38:09.939771Z"
    },
    "papermill": {
     "duration": 1.108508,
     "end_time": "2022-06-17T11:38:09.954539",
     "exception": false,
     "start_time": "2022-06-17T11:38:08.846031",
     "status": "completed"
    },
    "tags": []
   },
   "outputs": [],
   "source": [
    "# LOAD THE IMAGE\n",
    "img = io.imread('../input/number-plate-detection/TEST/TEST.jpeg')\n",
    "\n",
    "fig = px.imshow(img)\n",
    "fig.update_layout(width=700, height=400, margin=dict(l=10, r=10, b=10, t=10))\n",
    "fig.update_xaxes(showticklabels=False).update_yaxes(showticklabels=False)\n",
    "fig.show()"
   ]
  },
  {
   "cell_type": "markdown",
   "id": "e4f72d1d",
   "metadata": {
    "papermill": {
     "duration": 0.69888,
     "end_time": "2022-06-17T11:38:11.407727",
     "exception": false,
     "start_time": "2022-06-17T11:38:10.708847",
     "status": "completed"
    },
    "tags": []
   },
   "source": [
    "Now, we will load our YOLO model."
   ]
  },
  {
   "cell_type": "code",
   "execution_count": null,
   "id": "602d8d37",
   "metadata": {
    "execution": {
     "iopub.execute_input": "2022-06-17T11:38:13.275250Z",
     "iopub.status.busy": "2022-06-17T11:38:13.274774Z",
     "iopub.status.idle": "2022-06-17T11:38:13.342516Z",
     "shell.execute_reply": "2022-06-17T11:38:13.341531Z"
    },
    "papermill": {
     "duration": 1.173633,
     "end_time": "2022-06-17T11:38:13.344481",
     "exception": false,
     "start_time": "2022-06-17T11:38:12.170848",
     "status": "completed"
    },
    "tags": []
   },
   "outputs": [],
   "source": [
    "# LOAD YOLO MODEL\n",
    "net = cv2.dnn.readNetFromONNX('./yolov5/runs/train/Model/weights/best.onnx')\n",
    "net.setPreferableBackend(cv2.dnn.DNN_BACKEND_OPENCV)\n",
    "net.setPreferableTarget(cv2.dnn.DNN_TARGET_CPU)"
   ]
  },
  {
   "cell_type": "markdown",
   "id": "a6af8a95",
   "metadata": {
    "papermill": {
     "duration": 0.691889,
     "end_time": "2022-06-17T11:38:14.730017",
     "exception": false,
     "start_time": "2022-06-17T11:38:14.038128",
     "status": "completed"
    },
    "tags": []
   },
   "source": [
    "The next step is I need to parse this image to my YOLO model and get the prediction. Important - size we need to set as input width a 640 and input height is 640.\n",
    "\n",
    "We have the 25200 rows and 6 columns.  The first four columns will give you the information about the bounding box, which is center X and, Center Y, W and H. And these values are normalized to 640 by 640. And the next two values are the confidence and the probabilities. Confidence tells us what is the confidence for the detecting the bounding box and the next one is the probability score of the class, since we have only one class that is number plate.\n",
    "\n",
    "Let’s make a list of boxes and confidence and place it order. As well we need to identify our X_factor and Y_factor of image.\n",
    "\n",
    "We have to filter detections based on the confidence score and the probability score. Let me take the confidence >0.4 and filter from class >0.25.\n",
    "\n",
    "There is will be one of major issue with YOLO modeling it will give you the repeated boxes, but the same object it might give you that multiple boxes. For that we need to perform the non-maximum suppression. To do it we need to provide all our clean boxes and confidences. \n",
    "\n",
    "In the end of that part of code I will take bounding boxes and draw the rectangle box to our image. And will write it all in functions. "
   ]
  },
  {
   "cell_type": "code",
   "execution_count": null,
   "id": "330b635d",
   "metadata": {
    "execution": {
     "iopub.execute_input": "2022-06-17T11:38:16.177596Z",
     "iopub.status.busy": "2022-06-17T11:38:16.177111Z",
     "iopub.status.idle": "2022-06-17T11:38:16.197017Z",
     "shell.execute_reply": "2022-06-17T11:38:16.196255Z"
    },
    "papermill": {
     "duration": 0.770895,
     "end_time": "2022-06-17T11:38:16.198682",
     "exception": false,
     "start_time": "2022-06-17T11:38:15.427787",
     "status": "completed"
    },
    "tags": []
   },
   "outputs": [],
   "source": [
    "def get_detections(img,net):\n",
    "    # 1.CONVERT IMAGE TO YOLO FORMAT\n",
    "    image = img.copy()\n",
    "    row, col, d = image.shape\n",
    "\n",
    "    max_rc = max(row,col)\n",
    "    input_image = np.zeros((max_rc,max_rc,3),dtype=np.uint8)\n",
    "    input_image[0:row,0:col] = image\n",
    "\n",
    "    # 2. GET PREDICTION FROM YOLO MODEL\n",
    "    blob = cv2.dnn.blobFromImage(input_image,1/255,(INPUT_WIDTH,INPUT_HEIGHT),swapRB=True,crop=False)\n",
    "    net.setInput(blob)\n",
    "    preds = net.forward()\n",
    "    detections = preds[0]\n",
    "    \n",
    "    return input_image, detections\n",
    "\n",
    "def non_maximum_supression(input_image,detections):\n",
    "    \n",
    "    # 3. FILTER DETECTIONS BASED ON CONFIDENCE AND PROBABILIY SCORE\n",
    "    \n",
    "    # center x, center y, w , h, conf, proba\n",
    "    boxes = []\n",
    "    confidences = []\n",
    "\n",
    "    image_w, image_h = input_image.shape[:2]\n",
    "    x_factor = image_w/INPUT_WIDTH\n",
    "    y_factor = image_h/INPUT_HEIGHT\n",
    "\n",
    "    for i in range(len(detections)):\n",
    "        row = detections[i]\n",
    "        confidence = row[4] # confidence of detecting license plate\n",
    "        if confidence > 0.4:\n",
    "            class_score = row[5] # probability score of license plate\n",
    "            if class_score > 0.25:\n",
    "                cx, cy , w, h = row[0:4]\n",
    "\n",
    "                left = int((cx - 0.5*w)*x_factor)\n",
    "                top = int((cy-0.5*h)*y_factor)\n",
    "                width = int(w*x_factor)\n",
    "                height = int(h*y_factor)\n",
    "                box = np.array([left,top,width,height])\n",
    "\n",
    "                confidences.append(confidence)\n",
    "                boxes.append(box)\n",
    "\n",
    "    # 4.1 CLEAN\n",
    "    boxes_np = np.array(boxes).tolist()\n",
    "    confidences_np = np.array(confidences).tolist()\n",
    "    \n",
    "    # 4.2 NMS\n",
    "    index = cv2.dnn.NMSBoxes(boxes_np,confidences_np,0.25,0.45)\n",
    "    \n",
    "    return boxes_np, confidences_np, index\n",
    "\n",
    "def drawings(image,boxes_np,confidences_np,index):\n",
    "    # 5. Drawings\n",
    "    for ind in index:\n",
    "        x,y,w,h =  boxes_np[ind]\n",
    "        bb_conf = confidences_np[ind]\n",
    "        conf_text = 'plate: {:.0f}%'.format(bb_conf*100)\n",
    "        license_text = extract_text(image,boxes_np[ind])\n",
    "\n",
    "\n",
    "        cv2.rectangle(image,(x,y),(x+w,y+h),(255,0,255),2)\n",
    "        cv2.rectangle(image,(x,y-30),(x+w,y),(255,0,255),-1)\n",
    "        cv2.rectangle(image,(x,y+h),(x+w,y+h+25),(0,0,0),-1)\n",
    "\n",
    "\n",
    "        cv2.putText(image,conf_text,(x,y-10),cv2.FONT_HERSHEY_SIMPLEX,0.7,(255,255,255),1)\n",
    "        cv2.putText(image,license_text,(x,y+h+27),cv2.FONT_HERSHEY_SIMPLEX,0.7,(0,255,0),1)\n",
    "\n",
    "    return image"
   ]
  },
  {
   "cell_type": "code",
   "execution_count": null,
   "id": "8dc4e1c4",
   "metadata": {
    "execution": {
     "iopub.execute_input": "2022-06-17T11:38:17.635962Z",
     "iopub.status.busy": "2022-06-17T11:38:17.635457Z",
     "iopub.status.idle": "2022-06-17T11:38:17.641641Z",
     "shell.execute_reply": "2022-06-17T11:38:17.640871Z"
    },
    "papermill": {
     "duration": 0.747999,
     "end_time": "2022-06-17T11:38:17.643433",
     "exception": false,
     "start_time": "2022-06-17T11:38:16.895434",
     "status": "completed"
    },
    "tags": []
   },
   "outputs": [],
   "source": [
    "# predictions flow with return result\n",
    "def yolo_predictions(img,net):\n",
    "    # step-1: detections\n",
    "    input_image, detections = get_detections(img,net)\n",
    "    # step-2: NMS\n",
    "    boxes_np, confidences_np, index = non_maximum_supression(input_image, detections)\n",
    "    # step-3: Drawings\n",
    "    result_img = drawings(img,boxes_np,confidences_np,index)\n",
    "    return result_img"
   ]
  },
  {
   "cell_type": "markdown",
   "id": "aa37a673",
   "metadata": {
    "papermill": {
     "duration": 0.740768,
     "end_time": "2022-06-17T11:38:19.080036",
     "exception": false,
     "start_time": "2022-06-17T11:38:18.339268",
     "status": "completed"
    },
    "tags": []
   },
   "source": [
    "Here we will not only detect license plate but else extract test from it. We already done it before let’s repeat it again. We will write function. First from bounding box we need to take our x,y,w,h and extract ROI. I place it at top of our functions in drawing part."
   ]
  },
  {
   "cell_type": "code",
   "execution_count": null,
   "id": "af62aa9a",
   "metadata": {
    "execution": {
     "iopub.execute_input": "2022-06-17T11:38:20.544189Z",
     "iopub.status.busy": "2022-06-17T11:38:20.543745Z",
     "iopub.status.idle": "2022-06-17T11:38:20.555638Z",
     "shell.execute_reply": "2022-06-17T11:38:20.554904Z"
    },
    "papermill": {
     "duration": 0.774699,
     "end_time": "2022-06-17T11:38:20.558520",
     "exception": false,
     "start_time": "2022-06-17T11:38:19.783821",
     "status": "completed"
    },
    "tags": []
   },
   "outputs": [],
   "source": [
    "# extrating text\n",
    "def extract_text(image,bbox):\n",
    "    x,y,w,h = bbox\n",
    "    roi = image[y:y+h, x:x+w]\n",
    "    \n",
    "    if 0 in roi.shape:\n",
    "        return 'no number'\n",
    "    \n",
    "    else:\n",
    "        text = pt.image_to_string(roi)\n",
    "        text = text.strip()\n",
    "        \n",
    "        return text"
   ]
  },
  {
   "cell_type": "code",
   "execution_count": null,
   "id": "761562c3",
   "metadata": {
    "execution": {
     "iopub.execute_input": "2022-06-17T11:38:22.277263Z",
     "iopub.status.busy": "2022-06-17T11:38:22.276642Z",
     "iopub.status.idle": "2022-06-17T11:38:23.392334Z",
     "shell.execute_reply": "2022-06-17T11:38:23.391145Z"
    },
    "papermill": {
     "duration": 1.93111,
     "end_time": "2022-06-17T11:38:23.394973",
     "exception": false,
     "start_time": "2022-06-17T11:38:21.463863",
     "status": "completed"
    },
    "tags": []
   },
   "outputs": [],
   "source": [
    "# test\n",
    "img = io.imread('../input/number-plate-detection/TEST/TEST.jpeg')\n",
    "results = yolo_predictions(img,net)"
   ]
  },
  {
   "cell_type": "code",
   "execution_count": null,
   "id": "91813a7e",
   "metadata": {
    "execution": {
     "iopub.execute_input": "2022-06-17T11:38:24.845725Z",
     "iopub.status.busy": "2022-06-17T11:38:24.844617Z",
     "iopub.status.idle": "2022-06-17T11:38:25.007841Z",
     "shell.execute_reply": "2022-06-17T11:38:25.007109Z"
    },
    "papermill": {
     "duration": 0.875506,
     "end_time": "2022-06-17T11:38:25.019515",
     "exception": false,
     "start_time": "2022-06-17T11:38:24.144009",
     "status": "completed"
    },
    "tags": []
   },
   "outputs": [],
   "source": [
    "fig = px.imshow(img)\n",
    "fig.update_layout(width=700, height=400, margin=dict(l=10, r=10, b=10, t=10))\n",
    "fig.update_xaxes(showticklabels=False).update_yaxes(showticklabels=False)\n",
    "fig.show()"
   ]
  },
  {
   "cell_type": "markdown",
   "id": "50ce6c83",
   "metadata": {
    "papermill": {
     "duration": 0.759232,
     "end_time": "2022-06-17T11:38:26.507995",
     "exception": false,
     "start_time": "2022-06-17T11:38:25.748763",
     "status": "completed"
    },
    "tags": []
   },
   "source": [
    "The accuracy of the model is really pretty accurate. However, there are few misclassification, but still our model is performing really well. If you want to get more and more good accuracy, what you have to do is feed more and more data and then you can able to predict very good results. \n",
    "\n",
    "<p id=\"part38\"></p>\n",
    "\n",
    "# <span style=\"font-family: Arials; font-size: 16px; font-style: normal; font-weight: bold; letter-spacing: 3px; text-align: center; color: #000000; line-height:1.0\">8.5 REAL TIME OBJECT DETECTION</span>\n",
    "\n",
    "In real time prediction my point is that the detection is very perfect and in order to get very, very good predictions, we need to get very high 4K definition camera so that we can able to extract the text properly.\n",
    " \n",
    "```\n",
    "cap = cv2.VideoCapture('../input/number-plate-detection/TEST/TEST.mp4')\n",
    "while True:\n",
    "    ret, frame = cap.read()\n",
    "    \n",
    "    if ret == False:\n",
    "        print('Unable to read video')\n",
    "        break\n",
    "        \n",
    "    results = yolo_predictions(frame,net)\n",
    "    \n",
    "    cv2.namedWindow('YOLO',cv2.WINDOW_KEEPRATIO)\n",
    "    cv2.imshow('YOLO',results)\n",
    "    if cv2.waitKey(30) == 27 :\n",
    "        break\n",
    "        \n",
    "cv2.destroyAllWindows()\n",
    "cap.release()\n",
    "```\n",
    "<img src= \"https://user-images.githubusercontent.com/91852182/172154404-ccb2a6b5-deb4-4321-91ff-a8f13457b352.gif\" width=\"80%\" align=\"center\"  hspace=\"5%\" vspace=\"5%\"/>"
   ]
  },
  {
   "cell_type": "markdown",
   "id": "69592064",
   "metadata": {
    "papermill": {
     "duration": 0.730228,
     "end_time": "2022-06-17T11:38:27.953303",
     "exception": false,
     "start_time": "2022-06-17T11:38:27.223075",
     "status": "completed"
    },
    "tags": []
   },
   "source": [
    "<p id=\"part39\"></p>\n",
    "\n",
    "# <span style=\"font-family: Arials; font-size: 20px; font-style: normal; font-weight: bold; letter-spacing: 3px; text-align: center; color: #000000; line-height:1.0\">9. CONCLUSION</span>\n",
    "<hr style=\"height: 0.5px; border: 0; background-color: #000000\">\n",
    "\n",
    "\n",
    "With the increase in the number of vehicles, vehicle tracking has become an important research area for efficient traffic control, surveillance, and finding stolen cars. For this purpose, efficient real-time license plate detection and recognition are of great importance. Due to the variation in the background and font color, font style, size of the license plate, and non-standard characters, license plate recognition is a great challenge in developing countries. To overcome such issues, this study applies a deep-learning strategy to improve license plate recognition efficiency. The collected images have been captured under various lighting/contrast conditions, distance from the camera, varying angle of rotation, and validated to produce a high recognition rate. The approach can be effectively used by law enforcement agencies and private organizations to improve homeland security. Future work may include training and validation of the existing algorithm using the hybrid classifier method and improvement of the robustness of the license plate recognition system in varying weather conditions.\n",
    "\n",
    "*All files you can find as well on my [GITHUB](https://github.com/Asikpalysik/Automatic-License-Plate-Detection)\n",
    "If you find this post useful please __UPVOTE__, and if you have any question feel free to [CONTACT ME.](http://aslanahmedov.com)*"
   ]
  }
 ],
 "metadata": {
  "kernelspec": {
   "display_name": "Python 3",
   "language": "python",
   "name": "python3"
  },
  "language_info": {
   "codemirror_mode": {
    "name": "ipython",
    "version": 3
   },
   "file_extension": ".py",
   "mimetype": "text/x-python",
   "name": "python",
   "nbconvert_exporter": "python",
   "pygments_lexer": "ipython3",
   "version": "3.10.6"
  },
  "papermill": {
   "default_parameters": {},
   "duration": 1924.022253,
   "end_time": "2022-06-17T11:38:31.699727",
   "environment_variables": {},
   "exception": null,
   "input_path": "__notebook__.ipynb",
   "output_path": "__notebook__.ipynb",
   "parameters": {},
   "start_time": "2022-06-17T11:06:27.677474",
   "version": "2.3.4"
  }
 },
 "nbformat": 4,
 "nbformat_minor": 5
}
